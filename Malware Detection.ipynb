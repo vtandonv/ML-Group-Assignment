{
 "cells": [
  {
   "cell_type": "code",
   "execution_count": 2,
   "metadata": {},
   "outputs": [],
   "source": [
    "import pandas as pd\n",
    "import numpy as np\n",
    "import matplotlib.pyplot as plt\n",
    "import seaborn as sns\n",
    "from sklearn.model_selection import StratifiedKFold\n",
    "from sklearn.model_selection import cross_val_score\n",
    "from sklearn.metrics import mean_absolute_error,f1_score\n",
    "from sklearn.model_selection import KFold\n",
    "import warnings"
   ]
  },
  {
   "cell_type": "code",
   "execution_count": 3,
   "metadata": {},
   "outputs": [],
   "source": [
    "warnings.filterwarnings(\"ignore\")"
   ]
  },
  {
   "cell_type": "code",
   "execution_count": 4,
   "metadata": {},
   "outputs": [],
   "source": [
    "train = pd.read_csv('train.csv')\n",
    "test = pd.read_csv('test_to_give.csv')"
   ]
  },
  {
   "cell_type": "code",
   "execution_count": 5,
   "metadata": {},
   "outputs": [],
   "source": [
    "train_label = train['HasDetections']"
   ]
  },
  {
   "cell_type": "markdown",
   "metadata": {},
   "source": [
    "# Exploratory Data Analysis"
   ]
  },
  {
   "cell_type": "code",
   "execution_count": 6,
   "metadata": {},
   "outputs": [
    {
     "data": {
      "text/html": [
       "<div>\n",
       "<style scoped>\n",
       "    .dataframe tbody tr th:only-of-type {\n",
       "        vertical-align: middle;\n",
       "    }\n",
       "\n",
       "    .dataframe tbody tr th {\n",
       "        vertical-align: top;\n",
       "    }\n",
       "\n",
       "    .dataframe thead th {\n",
       "        text-align: right;\n",
       "    }\n",
       "</style>\n",
       "<table border=\"1\" class=\"dataframe\">\n",
       "  <thead>\n",
       "    <tr style=\"text-align: right;\">\n",
       "      <th></th>\n",
       "      <th>MachineIdentifier</th>\n",
       "      <th>ProductName</th>\n",
       "      <th>EngineVersion</th>\n",
       "      <th>AppVersion</th>\n",
       "      <th>AvSigVersion</th>\n",
       "      <th>IsBeta</th>\n",
       "      <th>RtpStateBitfield</th>\n",
       "      <th>IsSxsPassiveMode</th>\n",
       "      <th>DefaultBrowsersIdentifier</th>\n",
       "      <th>AVProductStatesIdentifier</th>\n",
       "      <th>...</th>\n",
       "      <th>Census_FirmwareVersionIdentifier</th>\n",
       "      <th>Census_IsSecureBootEnabled</th>\n",
       "      <th>Census_IsWIMBootEnabled</th>\n",
       "      <th>Census_IsVirtualDevice</th>\n",
       "      <th>Census_IsTouchEnabled</th>\n",
       "      <th>Census_IsPenCapable</th>\n",
       "      <th>Census_IsAlwaysOnAlwaysConnectedCapable</th>\n",
       "      <th>Wdft_IsGamer</th>\n",
       "      <th>Wdft_RegionIdentifier</th>\n",
       "      <th>HasDetections</th>\n",
       "    </tr>\n",
       "  </thead>\n",
       "  <tbody>\n",
       "    <tr>\n",
       "      <th>0</th>\n",
       "      <td>6ca9b92a49d4d23fc4754d464155cbb1</td>\n",
       "      <td>win8defender</td>\n",
       "      <td>1.1.15100.1</td>\n",
       "      <td>4.18.1807.18075</td>\n",
       "      <td>1.273.1516.0</td>\n",
       "      <td>0</td>\n",
       "      <td>7.0</td>\n",
       "      <td>0</td>\n",
       "      <td>NaN</td>\n",
       "      <td>53447.0</td>\n",
       "      <td>...</td>\n",
       "      <td>33778.0</td>\n",
       "      <td>0</td>\n",
       "      <td>NaN</td>\n",
       "      <td>0.0</td>\n",
       "      <td>0</td>\n",
       "      <td>0</td>\n",
       "      <td>0.0</td>\n",
       "      <td>0.0</td>\n",
       "      <td>10.0</td>\n",
       "      <td>0</td>\n",
       "    </tr>\n",
       "    <tr>\n",
       "      <th>1</th>\n",
       "      <td>640b82f0a7bd3701818b9442d1432937</td>\n",
       "      <td>win8defender</td>\n",
       "      <td>1.1.15200.1</td>\n",
       "      <td>4.18.1807.18075</td>\n",
       "      <td>1.275.727.0</td>\n",
       "      <td>0</td>\n",
       "      <td>7.0</td>\n",
       "      <td>0</td>\n",
       "      <td>NaN</td>\n",
       "      <td>53447.0</td>\n",
       "      <td>...</td>\n",
       "      <td>33778.0</td>\n",
       "      <td>0</td>\n",
       "      <td>NaN</td>\n",
       "      <td>0.0</td>\n",
       "      <td>0</td>\n",
       "      <td>0</td>\n",
       "      <td>0.0</td>\n",
       "      <td>0.0</td>\n",
       "      <td>15.0</td>\n",
       "      <td>0</td>\n",
       "    </tr>\n",
       "    <tr>\n",
       "      <th>2</th>\n",
       "      <td>cf34b73e0b66f6dd249c3b7dff1fb7dd</td>\n",
       "      <td>win8defender</td>\n",
       "      <td>1.1.15100.1</td>\n",
       "      <td>4.18.1807.18075</td>\n",
       "      <td>1.273.1587.0</td>\n",
       "      <td>0</td>\n",
       "      <td>7.0</td>\n",
       "      <td>0</td>\n",
       "      <td>NaN</td>\n",
       "      <td>53447.0</td>\n",
       "      <td>...</td>\n",
       "      <td>7360.0</td>\n",
       "      <td>1</td>\n",
       "      <td>NaN</td>\n",
       "      <td>0.0</td>\n",
       "      <td>1</td>\n",
       "      <td>0</td>\n",
       "      <td>0.0</td>\n",
       "      <td>0.0</td>\n",
       "      <td>10.0</td>\n",
       "      <td>1</td>\n",
       "    </tr>\n",
       "    <tr>\n",
       "      <th>3</th>\n",
       "      <td>6b59109284f680df09295d51e72e7abf</td>\n",
       "      <td>win8defender</td>\n",
       "      <td>1.1.15200.1</td>\n",
       "      <td>4.18.1807.18075</td>\n",
       "      <td>1.275.461.0</td>\n",
       "      <td>0</td>\n",
       "      <td>7.0</td>\n",
       "      <td>0</td>\n",
       "      <td>NaN</td>\n",
       "      <td>53447.0</td>\n",
       "      <td>...</td>\n",
       "      <td>19956.0</td>\n",
       "      <td>1</td>\n",
       "      <td>NaN</td>\n",
       "      <td>0.0</td>\n",
       "      <td>0</td>\n",
       "      <td>0</td>\n",
       "      <td>0.0</td>\n",
       "      <td>0.0</td>\n",
       "      <td>11.0</td>\n",
       "      <td>0</td>\n",
       "    </tr>\n",
       "    <tr>\n",
       "      <th>4</th>\n",
       "      <td>d1e4f6460d095127de936210ab587e3c</td>\n",
       "      <td>win8defender</td>\n",
       "      <td>1.1.15100.1</td>\n",
       "      <td>4.18.1807.18075</td>\n",
       "      <td>1.273.1420.0</td>\n",
       "      <td>0</td>\n",
       "      <td>7.0</td>\n",
       "      <td>0</td>\n",
       "      <td>NaN</td>\n",
       "      <td>53447.0</td>\n",
       "      <td>...</td>\n",
       "      <td>7672.0</td>\n",
       "      <td>0</td>\n",
       "      <td>0.0</td>\n",
       "      <td>0.0</td>\n",
       "      <td>0</td>\n",
       "      <td>0</td>\n",
       "      <td>0.0</td>\n",
       "      <td>0.0</td>\n",
       "      <td>6.0</td>\n",
       "      <td>1</td>\n",
       "    </tr>\n",
       "  </tbody>\n",
       "</table>\n",
       "<p>5 rows × 83 columns</p>\n",
       "</div>"
      ],
      "text/plain": [
       "                  MachineIdentifier   ProductName EngineVersion  \\\n",
       "0  6ca9b92a49d4d23fc4754d464155cbb1  win8defender   1.1.15100.1   \n",
       "1  640b82f0a7bd3701818b9442d1432937  win8defender   1.1.15200.1   \n",
       "2  cf34b73e0b66f6dd249c3b7dff1fb7dd  win8defender   1.1.15100.1   \n",
       "3  6b59109284f680df09295d51e72e7abf  win8defender   1.1.15200.1   \n",
       "4  d1e4f6460d095127de936210ab587e3c  win8defender   1.1.15100.1   \n",
       "\n",
       "        AppVersion  AvSigVersion  IsBeta  RtpStateBitfield  IsSxsPassiveMode  \\\n",
       "0  4.18.1807.18075  1.273.1516.0       0               7.0                 0   \n",
       "1  4.18.1807.18075   1.275.727.0       0               7.0                 0   \n",
       "2  4.18.1807.18075  1.273.1587.0       0               7.0                 0   \n",
       "3  4.18.1807.18075   1.275.461.0       0               7.0                 0   \n",
       "4  4.18.1807.18075  1.273.1420.0       0               7.0                 0   \n",
       "\n",
       "   DefaultBrowsersIdentifier  AVProductStatesIdentifier  ...  \\\n",
       "0                        NaN                    53447.0  ...   \n",
       "1                        NaN                    53447.0  ...   \n",
       "2                        NaN                    53447.0  ...   \n",
       "3                        NaN                    53447.0  ...   \n",
       "4                        NaN                    53447.0  ...   \n",
       "\n",
       "   Census_FirmwareVersionIdentifier  Census_IsSecureBootEnabled  \\\n",
       "0                           33778.0                           0   \n",
       "1                           33778.0                           0   \n",
       "2                            7360.0                           1   \n",
       "3                           19956.0                           1   \n",
       "4                            7672.0                           0   \n",
       "\n",
       "   Census_IsWIMBootEnabled  Census_IsVirtualDevice  Census_IsTouchEnabled  \\\n",
       "0                      NaN                     0.0                      0   \n",
       "1                      NaN                     0.0                      0   \n",
       "2                      NaN                     0.0                      1   \n",
       "3                      NaN                     0.0                      0   \n",
       "4                      0.0                     0.0                      0   \n",
       "\n",
       "   Census_IsPenCapable  Census_IsAlwaysOnAlwaysConnectedCapable  Wdft_IsGamer  \\\n",
       "0                    0                                      0.0           0.0   \n",
       "1                    0                                      0.0           0.0   \n",
       "2                    0                                      0.0           0.0   \n",
       "3                    0                                      0.0           0.0   \n",
       "4                    0                                      0.0           0.0   \n",
       "\n",
       "  Wdft_RegionIdentifier HasDetections  \n",
       "0                  10.0             0  \n",
       "1                  15.0             0  \n",
       "2                  10.0             1  \n",
       "3                  11.0             0  \n",
       "4                   6.0             1  \n",
       "\n",
       "[5 rows x 83 columns]"
      ]
     },
     "execution_count": 6,
     "metadata": {},
     "output_type": "execute_result"
    }
   ],
   "source": [
    "train.head()"
   ]
  },
  {
   "cell_type": "code",
   "execution_count": 7,
   "metadata": {},
   "outputs": [
    {
     "data": {
      "text/plain": [
       "(567730, 83)"
      ]
     },
     "execution_count": 7,
     "metadata": {},
     "output_type": "execute_result"
    }
   ],
   "source": [
    "train.shape"
   ]
  },
  {
   "cell_type": "code",
   "execution_count": 8,
   "metadata": {},
   "outputs": [
    {
     "data": {
      "text/plain": [
       "(243313, 82)"
      ]
     },
     "execution_count": 8,
     "metadata": {},
     "output_type": "execute_result"
    }
   ],
   "source": [
    "test.shape"
   ]
  },
  {
   "cell_type": "code",
   "execution_count": 9,
   "metadata": {},
   "outputs": [
    {
     "data": {
      "text/html": [
       "<div>\n",
       "<style scoped>\n",
       "    .dataframe tbody tr th:only-of-type {\n",
       "        vertical-align: middle;\n",
       "    }\n",
       "\n",
       "    .dataframe tbody tr th {\n",
       "        vertical-align: top;\n",
       "    }\n",
       "\n",
       "    .dataframe thead th {\n",
       "        text-align: right;\n",
       "    }\n",
       "</style>\n",
       "<table border=\"1\" class=\"dataframe\">\n",
       "  <thead>\n",
       "    <tr style=\"text-align: right;\">\n",
       "      <th></th>\n",
       "      <th>MachineIdentifier</th>\n",
       "      <th>ProductName</th>\n",
       "      <th>EngineVersion</th>\n",
       "      <th>AppVersion</th>\n",
       "      <th>AvSigVersion</th>\n",
       "      <th>IsBeta</th>\n",
       "      <th>RtpStateBitfield</th>\n",
       "      <th>IsSxsPassiveMode</th>\n",
       "      <th>DefaultBrowsersIdentifier</th>\n",
       "      <th>AVProductStatesIdentifier</th>\n",
       "      <th>...</th>\n",
       "      <th>Census_FirmwareManufacturerIdentifier</th>\n",
       "      <th>Census_FirmwareVersionIdentifier</th>\n",
       "      <th>Census_IsSecureBootEnabled</th>\n",
       "      <th>Census_IsWIMBootEnabled</th>\n",
       "      <th>Census_IsVirtualDevice</th>\n",
       "      <th>Census_IsTouchEnabled</th>\n",
       "      <th>Census_IsPenCapable</th>\n",
       "      <th>Census_IsAlwaysOnAlwaysConnectedCapable</th>\n",
       "      <th>Wdft_IsGamer</th>\n",
       "      <th>Wdft_RegionIdentifier</th>\n",
       "    </tr>\n",
       "  </thead>\n",
       "  <tbody>\n",
       "    <tr>\n",
       "      <th>0</th>\n",
       "      <td>6810c5d22b0973b53a89ef881656e192</td>\n",
       "      <td>win8defender</td>\n",
       "      <td>1.1.14405.2</td>\n",
       "      <td>4.11.15063.1155</td>\n",
       "      <td>1.259.725.0</td>\n",
       "      <td>0</td>\n",
       "      <td>7.0</td>\n",
       "      <td>0</td>\n",
       "      <td>3000.0</td>\n",
       "      <td>7945.0</td>\n",
       "      <td>...</td>\n",
       "      <td>355.0</td>\n",
       "      <td>9321.0</td>\n",
       "      <td>1</td>\n",
       "      <td>NaN</td>\n",
       "      <td>0.0</td>\n",
       "      <td>0</td>\n",
       "      <td>0</td>\n",
       "      <td>0.0</td>\n",
       "      <td>0.0</td>\n",
       "      <td>11.0</td>\n",
       "    </tr>\n",
       "    <tr>\n",
       "      <th>1</th>\n",
       "      <td>4d810281c41ae85517e447146ec15b0a</td>\n",
       "      <td>win8defender</td>\n",
       "      <td>1.1.15100.1</td>\n",
       "      <td>4.18.1807.18075</td>\n",
       "      <td>1.273.1232.0</td>\n",
       "      <td>0</td>\n",
       "      <td>7.0</td>\n",
       "      <td>0</td>\n",
       "      <td>NaN</td>\n",
       "      <td>7945.0</td>\n",
       "      <td>...</td>\n",
       "      <td>556.0</td>\n",
       "      <td>63654.0</td>\n",
       "      <td>1</td>\n",
       "      <td>0.0</td>\n",
       "      <td>0.0</td>\n",
       "      <td>0</td>\n",
       "      <td>0</td>\n",
       "      <td>0.0</td>\n",
       "      <td>1.0</td>\n",
       "      <td>10.0</td>\n",
       "    </tr>\n",
       "    <tr>\n",
       "      <th>2</th>\n",
       "      <td>d0d7e4da90f95d04cdecc0143b690e0a</td>\n",
       "      <td>win8defender</td>\n",
       "      <td>1.1.15100.1</td>\n",
       "      <td>4.18.1807.18075</td>\n",
       "      <td>1.273.922.0</td>\n",
       "      <td>0</td>\n",
       "      <td>7.0</td>\n",
       "      <td>0</td>\n",
       "      <td>NaN</td>\n",
       "      <td>53447.0</td>\n",
       "      <td>...</td>\n",
       "      <td>142.0</td>\n",
       "      <td>9491.0</td>\n",
       "      <td>0</td>\n",
       "      <td>NaN</td>\n",
       "      <td>0.0</td>\n",
       "      <td>0</td>\n",
       "      <td>0</td>\n",
       "      <td>0.0</td>\n",
       "      <td>1.0</td>\n",
       "      <td>3.0</td>\n",
       "    </tr>\n",
       "    <tr>\n",
       "      <th>3</th>\n",
       "      <td>718b06bd3089b5a37c63ad6af86ee0cd</td>\n",
       "      <td>win8defender</td>\n",
       "      <td>1.1.15000.2</td>\n",
       "      <td>4.18.1806.18062</td>\n",
       "      <td>1.271.216.0</td>\n",
       "      <td>0</td>\n",
       "      <td>7.0</td>\n",
       "      <td>0</td>\n",
       "      <td>NaN</td>\n",
       "      <td>53447.0</td>\n",
       "      <td>...</td>\n",
       "      <td>142.0</td>\n",
       "      <td>2827.0</td>\n",
       "      <td>1</td>\n",
       "      <td>0.0</td>\n",
       "      <td>0.0</td>\n",
       "      <td>0</td>\n",
       "      <td>0</td>\n",
       "      <td>0.0</td>\n",
       "      <td>0.0</td>\n",
       "      <td>9.0</td>\n",
       "    </tr>\n",
       "    <tr>\n",
       "      <th>4</th>\n",
       "      <td>4ab7e3633628cccb65e055d91979c31b</td>\n",
       "      <td>win8defender</td>\n",
       "      <td>1.1.15200.1</td>\n",
       "      <td>4.18.1807.18075</td>\n",
       "      <td>1.275.760.0</td>\n",
       "      <td>0</td>\n",
       "      <td>7.0</td>\n",
       "      <td>0</td>\n",
       "      <td>NaN</td>\n",
       "      <td>53447.0</td>\n",
       "      <td>...</td>\n",
       "      <td>NaN</td>\n",
       "      <td>NaN</td>\n",
       "      <td>0</td>\n",
       "      <td>NaN</td>\n",
       "      <td>0.0</td>\n",
       "      <td>0</td>\n",
       "      <td>0</td>\n",
       "      <td>NaN</td>\n",
       "      <td>0.0</td>\n",
       "      <td>7.0</td>\n",
       "    </tr>\n",
       "  </tbody>\n",
       "</table>\n",
       "<p>5 rows × 82 columns</p>\n",
       "</div>"
      ],
      "text/plain": [
       "                  MachineIdentifier   ProductName EngineVersion  \\\n",
       "0  6810c5d22b0973b53a89ef881656e192  win8defender   1.1.14405.2   \n",
       "1  4d810281c41ae85517e447146ec15b0a  win8defender   1.1.15100.1   \n",
       "2  d0d7e4da90f95d04cdecc0143b690e0a  win8defender   1.1.15100.1   \n",
       "3  718b06bd3089b5a37c63ad6af86ee0cd  win8defender   1.1.15000.2   \n",
       "4  4ab7e3633628cccb65e055d91979c31b  win8defender   1.1.15200.1   \n",
       "\n",
       "        AppVersion  AvSigVersion  IsBeta  RtpStateBitfield  IsSxsPassiveMode  \\\n",
       "0  4.11.15063.1155   1.259.725.0       0               7.0                 0   \n",
       "1  4.18.1807.18075  1.273.1232.0       0               7.0                 0   \n",
       "2  4.18.1807.18075   1.273.922.0       0               7.0                 0   \n",
       "3  4.18.1806.18062   1.271.216.0       0               7.0                 0   \n",
       "4  4.18.1807.18075   1.275.760.0       0               7.0                 0   \n",
       "\n",
       "   DefaultBrowsersIdentifier  AVProductStatesIdentifier  ...  \\\n",
       "0                     3000.0                     7945.0  ...   \n",
       "1                        NaN                     7945.0  ...   \n",
       "2                        NaN                    53447.0  ...   \n",
       "3                        NaN                    53447.0  ...   \n",
       "4                        NaN                    53447.0  ...   \n",
       "\n",
       "   Census_FirmwareManufacturerIdentifier  Census_FirmwareVersionIdentifier  \\\n",
       "0                                  355.0                            9321.0   \n",
       "1                                  556.0                           63654.0   \n",
       "2                                  142.0                            9491.0   \n",
       "3                                  142.0                            2827.0   \n",
       "4                                    NaN                               NaN   \n",
       "\n",
       "   Census_IsSecureBootEnabled  Census_IsWIMBootEnabled  \\\n",
       "0                           1                      NaN   \n",
       "1                           1                      0.0   \n",
       "2                           0                      NaN   \n",
       "3                           1                      0.0   \n",
       "4                           0                      NaN   \n",
       "\n",
       "   Census_IsVirtualDevice  Census_IsTouchEnabled  Census_IsPenCapable  \\\n",
       "0                     0.0                      0                    0   \n",
       "1                     0.0                      0                    0   \n",
       "2                     0.0                      0                    0   \n",
       "3                     0.0                      0                    0   \n",
       "4                     0.0                      0                    0   \n",
       "\n",
       "   Census_IsAlwaysOnAlwaysConnectedCapable Wdft_IsGamer Wdft_RegionIdentifier  \n",
       "0                                      0.0          0.0                  11.0  \n",
       "1                                      0.0          1.0                  10.0  \n",
       "2                                      0.0          1.0                   3.0  \n",
       "3                                      0.0          0.0                   9.0  \n",
       "4                                      NaN          0.0                   7.0  \n",
       "\n",
       "[5 rows x 82 columns]"
      ]
     },
     "execution_count": 9,
     "metadata": {},
     "output_type": "execute_result"
    }
   ],
   "source": [
    "test.head()"
   ]
  },
  {
   "cell_type": "markdown",
   "metadata": {},
   "source": [
    "It seems that our target feature is HasDetections, which is a binary feature, with 0 indicating that malware was not detected, and 1 indicating that malware was detected."
   ]
  },
  {
   "cell_type": "code",
   "execution_count": 10,
   "metadata": {},
   "outputs": [
    {
     "name": "stdout",
     "output_type": "stream",
     "text": [
      "<class 'pandas.core.frame.DataFrame'>\n",
      "RangeIndex: 567730 entries, 0 to 567729\n",
      "Data columns (total 83 columns):\n",
      " #   Column                                             Non-Null Count   Dtype  \n",
      "---  ------                                             --------------   -----  \n",
      " 0   MachineIdentifier                                  567730 non-null  object \n",
      " 1   ProductName                                        567730 non-null  object \n",
      " 2   EngineVersion                                      567730 non-null  object \n",
      " 3   AppVersion                                         567730 non-null  object \n",
      " 4   AvSigVersion                                       567730 non-null  object \n",
      " 5   IsBeta                                             567730 non-null  int64  \n",
      " 6   RtpStateBitfield                                   565468 non-null  float64\n",
      " 7   IsSxsPassiveMode                                   567730 non-null  int64  \n",
      " 8   DefaultBrowsersIdentifier                          29487 non-null   float64\n",
      " 9   AVProductStatesIdentifier                          565103 non-null  float64\n",
      " 10  AVProductsInstalled                                565103 non-null  float64\n",
      " 11  AVProductsEnabled                                  565103 non-null  float64\n",
      " 12  HasTpm                                             567730 non-null  int64  \n",
      " 13  CountryIdentifier                                  567730 non-null  int64  \n",
      " 14  CityIdentifier                                     546792 non-null  float64\n",
      " 15  OrganizationIdentifier                             392865 non-null  float64\n",
      " 16  GeoNameIdentifier                                  567717 non-null  float64\n",
      " 17  LocaleEnglishNameIdentifier                        567730 non-null  int64  \n",
      " 18  Platform                                           567730 non-null  object \n",
      " 19  Processor                                          567730 non-null  object \n",
      " 20  OsVer                                              567730 non-null  object \n",
      " 21  OsBuild                                            567730 non-null  int64  \n",
      " 22  OsSuite                                            567730 non-null  int64  \n",
      " 23  OsPlatformSubRelease                               567730 non-null  object \n",
      " 24  OsBuildLab                                         567729 non-null  object \n",
      " 25  SkuEdition                                         567730 non-null  object \n",
      " 26  IsProtected                                        565116 non-null  float64\n",
      " 27  AutoSampleOptIn                                    567730 non-null  int64  \n",
      " 28  PuaMode                                            98 non-null      object \n",
      " 29  SMode                                              529368 non-null  float64\n",
      " 30  IeVerIdentifier                                    563939 non-null  float64\n",
      " 31  SmartScreen                                        360513 non-null  object \n",
      " 32  Firewall                                           561966 non-null  float64\n",
      " 33  UacLuaenable                                       567080 non-null  float64\n",
      " 34  Census_MDC2FormFactor                              567730 non-null  object \n",
      " 35  Census_DeviceFamily                                567730 non-null  object \n",
      " 36  Census_OEMNameIdentifier                           561385 non-null  float64\n",
      " 37  Census_OEMModelIdentifier                          560952 non-null  float64\n",
      " 38  Census_ProcessorCoreCount                          565221 non-null  float64\n",
      " 39  Census_ProcessorManufacturerIdentifier             565221 non-null  float64\n",
      " 40  Census_ProcessorModelIdentifier                    565220 non-null  float64\n",
      " 41  Census_ProcessorClass                              2132 non-null    object \n",
      " 42  Census_PrimaryDiskTotalCapacity                    564370 non-null  float64\n",
      " 43  Census_PrimaryDiskTypeName                         566873 non-null  object \n",
      " 44  Census_SystemVolumeTotalCapacity                   564370 non-null  float64\n",
      " 45  Census_HasOpticalDiskDrive                         567730 non-null  int64  \n",
      " 46  Census_TotalPhysicalRAM                            562392 non-null  float64\n",
      " 47  Census_ChassisTypeName                             567701 non-null  object \n",
      " 48  Census_InternalPrimaryDiagonalDisplaySizeInInches  564800 non-null  float64\n",
      " 49  Census_InternalPrimaryDisplayResolutionHorizontal  564809 non-null  float64\n",
      " 50  Census_InternalPrimaryDisplayResolutionVertical    564809 non-null  float64\n",
      " 51  Census_PowerPlatformRoleName                       567725 non-null  object \n",
      " 52  Census_InternalBatteryType                         167496 non-null  object \n",
      " 53  Census_InternalBatteryNumberOfCharges              551462 non-null  float64\n",
      " 54  Census_OSVersion                                   567730 non-null  object \n",
      " 55  Census_OSArchitecture                              567730 non-null  object \n",
      " 56  Census_OSBranch                                    567730 non-null  object \n",
      " 57  Census_OSBuildNumber                               567730 non-null  int64  \n",
      " 58  Census_OSBuildRevision                             567730 non-null  int64  \n",
      " 59  Census_OSEdition                                   567730 non-null  object \n",
      " 60  Census_OSSkuName                                   567730 non-null  object \n",
      " 61  Census_OSInstallTypeName                           567730 non-null  object \n",
      " 62  Census_OSInstallLanguageIdentifier                 563914 non-null  float64\n",
      " 63  Census_OSUILocaleIdentifier                        567730 non-null  int64  \n",
      " 64  Census_OSWUAutoUpdateOptionsName                   567730 non-null  object \n",
      " 65  Census_IsPortableOperatingSystem                   567730 non-null  int64  \n",
      " 66  Census_GenuineStateName                            567730 non-null  object \n",
      " 67  Census_ActivationChannel                           567730 non-null  object \n",
      " 68  Census_IsFlightingInternal                         97745 non-null   float64\n",
      " 69  Census_IsFlightsDisabled                           557669 non-null  float64\n",
      " 70  Census_FlightRing                                  567730 non-null  object \n",
      " 71  Census_ThresholdOptIn                              209412 non-null  float64\n",
      " 72  Census_FirmwareManufacturerIdentifier              554840 non-null  float64\n",
      " 73  Census_FirmwareVersionIdentifier                   556477 non-null  float64\n",
      " 74  Census_IsSecureBootEnabled                         567730 non-null  int64  \n",
      " 75  Census_IsWIMBootEnabled                            209936 non-null  float64\n",
      " 76  Census_IsVirtualDevice                             566712 non-null  float64\n",
      " 77  Census_IsTouchEnabled                              567730 non-null  int64  \n",
      " 78  Census_IsPenCapable                                567730 non-null  int64  \n",
      " 79  Census_IsAlwaysOnAlwaysConnectedCapable            563260 non-null  float64\n",
      " 80  Wdft_IsGamer                                       549025 non-null  float64\n",
      " 81  Wdft_RegionIdentifier                              549025 non-null  float64\n",
      " 82  HasDetections                                      567730 non-null  int64  \n",
      "dtypes: float64(36), int64(17), object(30)\n",
      "memory usage: 359.5+ MB\n"
     ]
    }
   ],
   "source": [
    "train.info()"
   ]
  },
  {
   "cell_type": "markdown",
   "metadata": {},
   "source": [
    "We have data of both numeric and object type. We will handle encodings later."
   ]
  },
  {
   "cell_type": "markdown",
   "metadata": {},
   "source": [
    "### Missing Data"
   ]
  },
  {
   "cell_type": "code",
   "execution_count": 11,
   "metadata": {},
   "outputs": [
    {
     "name": "stdout",
     "output_type": "stream",
     "text": [
      "MachineIdentifier                                         0\n",
      "ProductName                                               0\n",
      "EngineVersion                                             0\n",
      "AppVersion                                                0\n",
      "AvSigVersion                                              0\n",
      "IsBeta                                                    0\n",
      "RtpStateBitfield                                       2262\n",
      "IsSxsPassiveMode                                          0\n",
      "DefaultBrowsersIdentifier                            538243\n",
      "AVProductStatesIdentifier                              2627\n",
      "AVProductsInstalled                                    2627\n",
      "AVProductsEnabled                                      2627\n",
      "HasTpm                                                    0\n",
      "CountryIdentifier                                         0\n",
      "CityIdentifier                                        20938\n",
      "OrganizationIdentifier                               174865\n",
      "GeoNameIdentifier                                        13\n",
      "LocaleEnglishNameIdentifier                               0\n",
      "Platform                                                  0\n",
      "Processor                                                 0\n",
      "OsVer                                                     0\n",
      "OsBuild                                                   0\n",
      "OsSuite                                                   0\n",
      "OsPlatformSubRelease                                      0\n",
      "OsBuildLab                                                1\n",
      "SkuEdition                                                0\n",
      "IsProtected                                            2614\n",
      "AutoSampleOptIn                                           0\n",
      "PuaMode                                              567632\n",
      "SMode                                                 38362\n",
      "IeVerIdentifier                                        3791\n",
      "SmartScreen                                          207217\n",
      "Firewall                                               5764\n",
      "UacLuaenable                                            650\n",
      "Census_MDC2FormFactor                                     0\n",
      "Census_DeviceFamily                                       0\n",
      "Census_OEMNameIdentifier                               6345\n",
      "Census_OEMModelIdentifier                              6778\n",
      "Census_ProcessorCoreCount                              2509\n",
      "Census_ProcessorManufacturerIdentifier                 2509\n",
      "Census_ProcessorModelIdentifier                        2510\n",
      "Census_ProcessorClass                                565598\n",
      "Census_PrimaryDiskTotalCapacity                        3360\n",
      "Census_PrimaryDiskTypeName                              857\n",
      "Census_SystemVolumeTotalCapacity                       3360\n",
      "Census_HasOpticalDiskDrive                                0\n",
      "Census_TotalPhysicalRAM                                5338\n",
      "Census_ChassisTypeName                                   29\n",
      "Census_InternalPrimaryDiagonalDisplaySizeInInches      2930\n",
      "Census_InternalPrimaryDisplayResolutionHorizontal      2921\n",
      "Census_InternalPrimaryDisplayResolutionVertical        2921\n",
      "Census_PowerPlatformRoleName                              5\n",
      "Census_InternalBatteryType                           400234\n",
      "Census_InternalBatteryNumberOfCharges                 16268\n",
      "Census_OSVersion                                          0\n",
      "Census_OSArchitecture                                     0\n",
      "Census_OSBranch                                           0\n",
      "Census_OSBuildNumber                                      0\n",
      "Census_OSBuildRevision                                    0\n",
      "Census_OSEdition                                          0\n",
      "Census_OSSkuName                                          0\n",
      "Census_OSInstallTypeName                                  0\n",
      "Census_OSInstallLanguageIdentifier                     3816\n",
      "Census_OSUILocaleIdentifier                               0\n",
      "Census_OSWUAutoUpdateOptionsName                          0\n",
      "Census_IsPortableOperatingSystem                          0\n",
      "Census_GenuineStateName                                   0\n",
      "Census_ActivationChannel                                  0\n",
      "Census_IsFlightingInternal                           469985\n",
      "Census_IsFlightsDisabled                              10061\n",
      "Census_FlightRing                                         0\n",
      "Census_ThresholdOptIn                                358318\n",
      "Census_FirmwareManufacturerIdentifier                 12890\n",
      "Census_FirmwareVersionIdentifier                      11253\n",
      "Census_IsSecureBootEnabled                                0\n",
      "Census_IsWIMBootEnabled                              357794\n",
      "Census_IsVirtualDevice                                 1018\n",
      "Census_IsTouchEnabled                                     0\n",
      "Census_IsPenCapable                                       0\n",
      "Census_IsAlwaysOnAlwaysConnectedCapable                4470\n",
      "Wdft_IsGamer                                          18705\n",
      "Wdft_RegionIdentifier                                 18705\n",
      "HasDetections                                             0\n",
      "dtype: int64\n"
     ]
    }
   ],
   "source": [
    "pd.set_option('display.max_rows', 83)\n",
    "print(train.isnull().sum())\n",
    "pd.set_option('display.max_rows',None)"
   ]
  },
  {
   "cell_type": "markdown",
   "metadata": {},
   "source": [
    "#### Let's get a better look at missing values."
   ]
  },
  {
   "cell_type": "markdown",
   "metadata": {},
   "source": [
    "Missing Values in Training data set"
   ]
  },
  {
   "cell_type": "code",
   "execution_count": 12,
   "metadata": {},
   "outputs": [
    {
     "data": {
      "text/html": [
       "<div>\n",
       "<style scoped>\n",
       "    .dataframe tbody tr th:only-of-type {\n",
       "        vertical-align: middle;\n",
       "    }\n",
       "\n",
       "    .dataframe tbody tr th {\n",
       "        vertical-align: top;\n",
       "    }\n",
       "\n",
       "    .dataframe thead th {\n",
       "        text-align: right;\n",
       "    }\n",
       "</style>\n",
       "<table border=\"1\" class=\"dataframe\">\n",
       "  <thead>\n",
       "    <tr style=\"text-align: right;\">\n",
       "      <th></th>\n",
       "      <th>Total</th>\n",
       "      <th>Percent</th>\n",
       "    </tr>\n",
       "  </thead>\n",
       "  <tbody>\n",
       "    <tr>\n",
       "      <th>PuaMode</th>\n",
       "      <td>567632</td>\n",
       "      <td>99.982738</td>\n",
       "    </tr>\n",
       "    <tr>\n",
       "      <th>Census_ProcessorClass</th>\n",
       "      <td>565598</td>\n",
       "      <td>99.624469</td>\n",
       "    </tr>\n",
       "    <tr>\n",
       "      <th>DefaultBrowsersIdentifier</th>\n",
       "      <td>538243</td>\n",
       "      <td>94.806158</td>\n",
       "    </tr>\n",
       "    <tr>\n",
       "      <th>Census_IsFlightingInternal</th>\n",
       "      <td>469985</td>\n",
       "      <td>82.783189</td>\n",
       "    </tr>\n",
       "    <tr>\n",
       "      <th>Census_InternalBatteryType</th>\n",
       "      <td>400234</td>\n",
       "      <td>70.497243</td>\n",
       "    </tr>\n",
       "    <tr>\n",
       "      <th>Census_ThresholdOptIn</th>\n",
       "      <td>358318</td>\n",
       "      <td>63.114156</td>\n",
       "    </tr>\n",
       "    <tr>\n",
       "      <th>Census_IsWIMBootEnabled</th>\n",
       "      <td>357794</td>\n",
       "      <td>63.021859</td>\n",
       "    </tr>\n",
       "    <tr>\n",
       "      <th>SmartScreen</th>\n",
       "      <td>207217</td>\n",
       "      <td>36.499216</td>\n",
       "    </tr>\n",
       "    <tr>\n",
       "      <th>OrganizationIdentifier</th>\n",
       "      <td>174865</td>\n",
       "      <td>30.800733</td>\n",
       "    </tr>\n",
       "    <tr>\n",
       "      <th>SMode</th>\n",
       "      <td>38362</td>\n",
       "      <td>6.757085</td>\n",
       "    </tr>\n",
       "    <tr>\n",
       "      <th>CityIdentifier</th>\n",
       "      <td>20938</td>\n",
       "      <td>3.688021</td>\n",
       "    </tr>\n",
       "    <tr>\n",
       "      <th>Wdft_IsGamer</th>\n",
       "      <td>18705</td>\n",
       "      <td>3.294700</td>\n",
       "    </tr>\n",
       "    <tr>\n",
       "      <th>Wdft_RegionIdentifier</th>\n",
       "      <td>18705</td>\n",
       "      <td>3.294700</td>\n",
       "    </tr>\n",
       "    <tr>\n",
       "      <th>Census_InternalBatteryNumberOfCharges</th>\n",
       "      <td>16268</td>\n",
       "      <td>2.865447</td>\n",
       "    </tr>\n",
       "    <tr>\n",
       "      <th>Census_FirmwareManufacturerIdentifier</th>\n",
       "      <td>12890</td>\n",
       "      <td>2.270445</td>\n",
       "    </tr>\n",
       "    <tr>\n",
       "      <th>Census_FirmwareVersionIdentifier</th>\n",
       "      <td>11253</td>\n",
       "      <td>1.982104</td>\n",
       "    </tr>\n",
       "    <tr>\n",
       "      <th>Census_IsFlightsDisabled</th>\n",
       "      <td>10061</td>\n",
       "      <td>1.772145</td>\n",
       "    </tr>\n",
       "    <tr>\n",
       "      <th>Census_OEMModelIdentifier</th>\n",
       "      <td>6778</td>\n",
       "      <td>1.193877</td>\n",
       "    </tr>\n",
       "    <tr>\n",
       "      <th>Census_OEMNameIdentifier</th>\n",
       "      <td>6345</td>\n",
       "      <td>1.117609</td>\n",
       "    </tr>\n",
       "    <tr>\n",
       "      <th>Firewall</th>\n",
       "      <td>5764</td>\n",
       "      <td>1.015271</td>\n",
       "    </tr>\n",
       "    <tr>\n",
       "      <th>Census_TotalPhysicalRAM</th>\n",
       "      <td>5338</td>\n",
       "      <td>0.940236</td>\n",
       "    </tr>\n",
       "    <tr>\n",
       "      <th>Census_IsAlwaysOnAlwaysConnectedCapable</th>\n",
       "      <td>4470</td>\n",
       "      <td>0.787346</td>\n",
       "    </tr>\n",
       "    <tr>\n",
       "      <th>Census_OSInstallLanguageIdentifier</th>\n",
       "      <td>3816</td>\n",
       "      <td>0.672150</td>\n",
       "    </tr>\n",
       "    <tr>\n",
       "      <th>IeVerIdentifier</th>\n",
       "      <td>3791</td>\n",
       "      <td>0.667747</td>\n",
       "    </tr>\n",
       "    <tr>\n",
       "      <th>Census_PrimaryDiskTotalCapacity</th>\n",
       "      <td>3360</td>\n",
       "      <td>0.591831</td>\n",
       "    </tr>\n",
       "    <tr>\n",
       "      <th>Census_SystemVolumeTotalCapacity</th>\n",
       "      <td>3360</td>\n",
       "      <td>0.591831</td>\n",
       "    </tr>\n",
       "    <tr>\n",
       "      <th>Census_InternalPrimaryDiagonalDisplaySizeInInches</th>\n",
       "      <td>2930</td>\n",
       "      <td>0.516090</td>\n",
       "    </tr>\n",
       "    <tr>\n",
       "      <th>Census_InternalPrimaryDisplayResolutionVertical</th>\n",
       "      <td>2921</td>\n",
       "      <td>0.514505</td>\n",
       "    </tr>\n",
       "    <tr>\n",
       "      <th>Census_InternalPrimaryDisplayResolutionHorizontal</th>\n",
       "      <td>2921</td>\n",
       "      <td>0.514505</td>\n",
       "    </tr>\n",
       "    <tr>\n",
       "      <th>AVProductsEnabled</th>\n",
       "      <td>2627</td>\n",
       "      <td>0.462720</td>\n",
       "    </tr>\n",
       "    <tr>\n",
       "      <th>AVProductsInstalled</th>\n",
       "      <td>2627</td>\n",
       "      <td>0.462720</td>\n",
       "    </tr>\n",
       "    <tr>\n",
       "      <th>AVProductStatesIdentifier</th>\n",
       "      <td>2627</td>\n",
       "      <td>0.462720</td>\n",
       "    </tr>\n",
       "    <tr>\n",
       "      <th>IsProtected</th>\n",
       "      <td>2614</td>\n",
       "      <td>0.460430</td>\n",
       "    </tr>\n",
       "    <tr>\n",
       "      <th>Census_ProcessorModelIdentifier</th>\n",
       "      <td>2510</td>\n",
       "      <td>0.442112</td>\n",
       "    </tr>\n",
       "    <tr>\n",
       "      <th>Census_ProcessorManufacturerIdentifier</th>\n",
       "      <td>2509</td>\n",
       "      <td>0.441935</td>\n",
       "    </tr>\n",
       "    <tr>\n",
       "      <th>Census_ProcessorCoreCount</th>\n",
       "      <td>2509</td>\n",
       "      <td>0.441935</td>\n",
       "    </tr>\n",
       "    <tr>\n",
       "      <th>RtpStateBitfield</th>\n",
       "      <td>2262</td>\n",
       "      <td>0.398429</td>\n",
       "    </tr>\n",
       "    <tr>\n",
       "      <th>Census_IsVirtualDevice</th>\n",
       "      <td>1018</td>\n",
       "      <td>0.179311</td>\n",
       "    </tr>\n",
       "    <tr>\n",
       "      <th>Census_PrimaryDiskTypeName</th>\n",
       "      <td>857</td>\n",
       "      <td>0.150952</td>\n",
       "    </tr>\n",
       "    <tr>\n",
       "      <th>UacLuaenable</th>\n",
       "      <td>650</td>\n",
       "      <td>0.114491</td>\n",
       "    </tr>\n",
       "    <tr>\n",
       "      <th>Census_ChassisTypeName</th>\n",
       "      <td>29</td>\n",
       "      <td>0.005108</td>\n",
       "    </tr>\n",
       "    <tr>\n",
       "      <th>GeoNameIdentifier</th>\n",
       "      <td>13</td>\n",
       "      <td>0.002290</td>\n",
       "    </tr>\n",
       "    <tr>\n",
       "      <th>Census_PowerPlatformRoleName</th>\n",
       "      <td>5</td>\n",
       "      <td>0.000881</td>\n",
       "    </tr>\n",
       "    <tr>\n",
       "      <th>OsBuildLab</th>\n",
       "      <td>1</td>\n",
       "      <td>0.000176</td>\n",
       "    </tr>\n",
       "    <tr>\n",
       "      <th>Platform</th>\n",
       "      <td>0</td>\n",
       "      <td>0.000000</td>\n",
       "    </tr>\n",
       "  </tbody>\n",
       "</table>\n",
       "</div>"
      ],
      "text/plain": [
       "                                                    Total    Percent\n",
       "PuaMode                                            567632  99.982738\n",
       "Census_ProcessorClass                              565598  99.624469\n",
       "DefaultBrowsersIdentifier                          538243  94.806158\n",
       "Census_IsFlightingInternal                         469985  82.783189\n",
       "Census_InternalBatteryType                         400234  70.497243\n",
       "Census_ThresholdOptIn                              358318  63.114156\n",
       "Census_IsWIMBootEnabled                            357794  63.021859\n",
       "SmartScreen                                        207217  36.499216\n",
       "OrganizationIdentifier                             174865  30.800733\n",
       "SMode                                               38362   6.757085\n",
       "CityIdentifier                                      20938   3.688021\n",
       "Wdft_IsGamer                                        18705   3.294700\n",
       "Wdft_RegionIdentifier                               18705   3.294700\n",
       "Census_InternalBatteryNumberOfCharges               16268   2.865447\n",
       "Census_FirmwareManufacturerIdentifier               12890   2.270445\n",
       "Census_FirmwareVersionIdentifier                    11253   1.982104\n",
       "Census_IsFlightsDisabled                            10061   1.772145\n",
       "Census_OEMModelIdentifier                            6778   1.193877\n",
       "Census_OEMNameIdentifier                             6345   1.117609\n",
       "Firewall                                             5764   1.015271\n",
       "Census_TotalPhysicalRAM                              5338   0.940236\n",
       "Census_IsAlwaysOnAlwaysConnectedCapable              4470   0.787346\n",
       "Census_OSInstallLanguageIdentifier                   3816   0.672150\n",
       "IeVerIdentifier                                      3791   0.667747\n",
       "Census_PrimaryDiskTotalCapacity                      3360   0.591831\n",
       "Census_SystemVolumeTotalCapacity                     3360   0.591831\n",
       "Census_InternalPrimaryDiagonalDisplaySizeInInches    2930   0.516090\n",
       "Census_InternalPrimaryDisplayResolutionVertical      2921   0.514505\n",
       "Census_InternalPrimaryDisplayResolutionHorizontal    2921   0.514505\n",
       "AVProductsEnabled                                    2627   0.462720\n",
       "AVProductsInstalled                                  2627   0.462720\n",
       "AVProductStatesIdentifier                            2627   0.462720\n",
       "IsProtected                                          2614   0.460430\n",
       "Census_ProcessorModelIdentifier                      2510   0.442112\n",
       "Census_ProcessorManufacturerIdentifier               2509   0.441935\n",
       "Census_ProcessorCoreCount                            2509   0.441935\n",
       "RtpStateBitfield                                     2262   0.398429\n",
       "Census_IsVirtualDevice                               1018   0.179311\n",
       "Census_PrimaryDiskTypeName                            857   0.150952\n",
       "UacLuaenable                                          650   0.114491\n",
       "Census_ChassisTypeName                                 29   0.005108\n",
       "GeoNameIdentifier                                      13   0.002290\n",
       "Census_PowerPlatformRoleName                            5   0.000881\n",
       "OsBuildLab                                              1   0.000176\n",
       "Platform                                                0   0.000000"
      ]
     },
     "execution_count": 12,
     "metadata": {},
     "output_type": "execute_result"
    }
   ],
   "source": [
    "total = train.isnull().sum().sort_values(ascending = False)\n",
    "percent = (train.isnull().sum()/train.isnull().count()*100).sort_values(ascending = False)\n",
    "missing_train_data  = pd.concat([total, percent], axis=1, keys=['Total', 'Percent'])\n",
    "missing_train_data.head(45)"
   ]
  },
  {
   "cell_type": "markdown",
   "metadata": {},
   "source": [
    "Missing Values in Test Data set"
   ]
  },
  {
   "cell_type": "code",
   "execution_count": 13,
   "metadata": {},
   "outputs": [
    {
     "data": {
      "text/html": [
       "<div>\n",
       "<style scoped>\n",
       "    .dataframe tbody tr th:only-of-type {\n",
       "        vertical-align: middle;\n",
       "    }\n",
       "\n",
       "    .dataframe tbody tr th {\n",
       "        vertical-align: top;\n",
       "    }\n",
       "\n",
       "    .dataframe thead th {\n",
       "        text-align: right;\n",
       "    }\n",
       "</style>\n",
       "<table border=\"1\" class=\"dataframe\">\n",
       "  <thead>\n",
       "    <tr style=\"text-align: right;\">\n",
       "      <th></th>\n",
       "      <th>Total</th>\n",
       "      <th>Percent</th>\n",
       "    </tr>\n",
       "  </thead>\n",
       "  <tbody>\n",
       "    <tr>\n",
       "      <th>PuaMode</th>\n",
       "      <td>567632</td>\n",
       "      <td>99.982738</td>\n",
       "    </tr>\n",
       "    <tr>\n",
       "      <th>Census_ProcessorClass</th>\n",
       "      <td>565598</td>\n",
       "      <td>99.624469</td>\n",
       "    </tr>\n",
       "    <tr>\n",
       "      <th>DefaultBrowsersIdentifier</th>\n",
       "      <td>538243</td>\n",
       "      <td>94.806158</td>\n",
       "    </tr>\n",
       "    <tr>\n",
       "      <th>Census_IsFlightingInternal</th>\n",
       "      <td>469985</td>\n",
       "      <td>82.783189</td>\n",
       "    </tr>\n",
       "    <tr>\n",
       "      <th>Census_InternalBatteryType</th>\n",
       "      <td>400234</td>\n",
       "      <td>70.497243</td>\n",
       "    </tr>\n",
       "    <tr>\n",
       "      <th>Census_ThresholdOptIn</th>\n",
       "      <td>358318</td>\n",
       "      <td>63.114156</td>\n",
       "    </tr>\n",
       "    <tr>\n",
       "      <th>Census_IsWIMBootEnabled</th>\n",
       "      <td>357794</td>\n",
       "      <td>63.021859</td>\n",
       "    </tr>\n",
       "    <tr>\n",
       "      <th>SmartScreen</th>\n",
       "      <td>207217</td>\n",
       "      <td>36.499216</td>\n",
       "    </tr>\n",
       "    <tr>\n",
       "      <th>OrganizationIdentifier</th>\n",
       "      <td>174865</td>\n",
       "      <td>30.800733</td>\n",
       "    </tr>\n",
       "    <tr>\n",
       "      <th>SMode</th>\n",
       "      <td>38362</td>\n",
       "      <td>6.757085</td>\n",
       "    </tr>\n",
       "    <tr>\n",
       "      <th>CityIdentifier</th>\n",
       "      <td>20938</td>\n",
       "      <td>3.688021</td>\n",
       "    </tr>\n",
       "    <tr>\n",
       "      <th>Wdft_IsGamer</th>\n",
       "      <td>18705</td>\n",
       "      <td>3.294700</td>\n",
       "    </tr>\n",
       "    <tr>\n",
       "      <th>Wdft_RegionIdentifier</th>\n",
       "      <td>18705</td>\n",
       "      <td>3.294700</td>\n",
       "    </tr>\n",
       "    <tr>\n",
       "      <th>Census_InternalBatteryNumberOfCharges</th>\n",
       "      <td>16268</td>\n",
       "      <td>2.865447</td>\n",
       "    </tr>\n",
       "    <tr>\n",
       "      <th>Census_FirmwareManufacturerIdentifier</th>\n",
       "      <td>12890</td>\n",
       "      <td>2.270445</td>\n",
       "    </tr>\n",
       "    <tr>\n",
       "      <th>Census_FirmwareVersionIdentifier</th>\n",
       "      <td>11253</td>\n",
       "      <td>1.982104</td>\n",
       "    </tr>\n",
       "    <tr>\n",
       "      <th>Census_IsFlightsDisabled</th>\n",
       "      <td>10061</td>\n",
       "      <td>1.772145</td>\n",
       "    </tr>\n",
       "    <tr>\n",
       "      <th>Census_OEMModelIdentifier</th>\n",
       "      <td>6778</td>\n",
       "      <td>1.193877</td>\n",
       "    </tr>\n",
       "    <tr>\n",
       "      <th>Census_OEMNameIdentifier</th>\n",
       "      <td>6345</td>\n",
       "      <td>1.117609</td>\n",
       "    </tr>\n",
       "    <tr>\n",
       "      <th>Firewall</th>\n",
       "      <td>5764</td>\n",
       "      <td>1.015271</td>\n",
       "    </tr>\n",
       "    <tr>\n",
       "      <th>Census_TotalPhysicalRAM</th>\n",
       "      <td>5338</td>\n",
       "      <td>0.940236</td>\n",
       "    </tr>\n",
       "    <tr>\n",
       "      <th>Census_IsAlwaysOnAlwaysConnectedCapable</th>\n",
       "      <td>4470</td>\n",
       "      <td>0.787346</td>\n",
       "    </tr>\n",
       "    <tr>\n",
       "      <th>Census_OSInstallLanguageIdentifier</th>\n",
       "      <td>3816</td>\n",
       "      <td>0.672150</td>\n",
       "    </tr>\n",
       "    <tr>\n",
       "      <th>IeVerIdentifier</th>\n",
       "      <td>3791</td>\n",
       "      <td>0.667747</td>\n",
       "    </tr>\n",
       "    <tr>\n",
       "      <th>Census_PrimaryDiskTotalCapacity</th>\n",
       "      <td>3360</td>\n",
       "      <td>0.591831</td>\n",
       "    </tr>\n",
       "    <tr>\n",
       "      <th>Census_SystemVolumeTotalCapacity</th>\n",
       "      <td>3360</td>\n",
       "      <td>0.591831</td>\n",
       "    </tr>\n",
       "    <tr>\n",
       "      <th>Census_InternalPrimaryDiagonalDisplaySizeInInches</th>\n",
       "      <td>2930</td>\n",
       "      <td>0.516090</td>\n",
       "    </tr>\n",
       "    <tr>\n",
       "      <th>Census_InternalPrimaryDisplayResolutionVertical</th>\n",
       "      <td>2921</td>\n",
       "      <td>0.514505</td>\n",
       "    </tr>\n",
       "    <tr>\n",
       "      <th>Census_InternalPrimaryDisplayResolutionHorizontal</th>\n",
       "      <td>2921</td>\n",
       "      <td>0.514505</td>\n",
       "    </tr>\n",
       "    <tr>\n",
       "      <th>AVProductsEnabled</th>\n",
       "      <td>2627</td>\n",
       "      <td>0.462720</td>\n",
       "    </tr>\n",
       "    <tr>\n",
       "      <th>AVProductsInstalled</th>\n",
       "      <td>2627</td>\n",
       "      <td>0.462720</td>\n",
       "    </tr>\n",
       "    <tr>\n",
       "      <th>AVProductStatesIdentifier</th>\n",
       "      <td>2627</td>\n",
       "      <td>0.462720</td>\n",
       "    </tr>\n",
       "    <tr>\n",
       "      <th>IsProtected</th>\n",
       "      <td>2614</td>\n",
       "      <td>0.460430</td>\n",
       "    </tr>\n",
       "    <tr>\n",
       "      <th>Census_ProcessorModelIdentifier</th>\n",
       "      <td>2510</td>\n",
       "      <td>0.442112</td>\n",
       "    </tr>\n",
       "    <tr>\n",
       "      <th>Census_ProcessorManufacturerIdentifier</th>\n",
       "      <td>2509</td>\n",
       "      <td>0.441935</td>\n",
       "    </tr>\n",
       "    <tr>\n",
       "      <th>Census_ProcessorCoreCount</th>\n",
       "      <td>2509</td>\n",
       "      <td>0.441935</td>\n",
       "    </tr>\n",
       "    <tr>\n",
       "      <th>RtpStateBitfield</th>\n",
       "      <td>2262</td>\n",
       "      <td>0.398429</td>\n",
       "    </tr>\n",
       "    <tr>\n",
       "      <th>Census_IsVirtualDevice</th>\n",
       "      <td>1018</td>\n",
       "      <td>0.179311</td>\n",
       "    </tr>\n",
       "    <tr>\n",
       "      <th>Census_PrimaryDiskTypeName</th>\n",
       "      <td>857</td>\n",
       "      <td>0.150952</td>\n",
       "    </tr>\n",
       "    <tr>\n",
       "      <th>UacLuaenable</th>\n",
       "      <td>650</td>\n",
       "      <td>0.114491</td>\n",
       "    </tr>\n",
       "    <tr>\n",
       "      <th>Census_ChassisTypeName</th>\n",
       "      <td>29</td>\n",
       "      <td>0.005108</td>\n",
       "    </tr>\n",
       "    <tr>\n",
       "      <th>GeoNameIdentifier</th>\n",
       "      <td>13</td>\n",
       "      <td>0.002290</td>\n",
       "    </tr>\n",
       "    <tr>\n",
       "      <th>Census_PowerPlatformRoleName</th>\n",
       "      <td>5</td>\n",
       "      <td>0.000881</td>\n",
       "    </tr>\n",
       "    <tr>\n",
       "      <th>OsBuildLab</th>\n",
       "      <td>1</td>\n",
       "      <td>0.000176</td>\n",
       "    </tr>\n",
       "    <tr>\n",
       "      <th>Platform</th>\n",
       "      <td>0</td>\n",
       "      <td>0.000000</td>\n",
       "    </tr>\n",
       "  </tbody>\n",
       "</table>\n",
       "</div>"
      ],
      "text/plain": [
       "                                                    Total    Percent\n",
       "PuaMode                                            567632  99.982738\n",
       "Census_ProcessorClass                              565598  99.624469\n",
       "DefaultBrowsersIdentifier                          538243  94.806158\n",
       "Census_IsFlightingInternal                         469985  82.783189\n",
       "Census_InternalBatteryType                         400234  70.497243\n",
       "Census_ThresholdOptIn                              358318  63.114156\n",
       "Census_IsWIMBootEnabled                            357794  63.021859\n",
       "SmartScreen                                        207217  36.499216\n",
       "OrganizationIdentifier                             174865  30.800733\n",
       "SMode                                               38362   6.757085\n",
       "CityIdentifier                                      20938   3.688021\n",
       "Wdft_IsGamer                                        18705   3.294700\n",
       "Wdft_RegionIdentifier                               18705   3.294700\n",
       "Census_InternalBatteryNumberOfCharges               16268   2.865447\n",
       "Census_FirmwareManufacturerIdentifier               12890   2.270445\n",
       "Census_FirmwareVersionIdentifier                    11253   1.982104\n",
       "Census_IsFlightsDisabled                            10061   1.772145\n",
       "Census_OEMModelIdentifier                            6778   1.193877\n",
       "Census_OEMNameIdentifier                             6345   1.117609\n",
       "Firewall                                             5764   1.015271\n",
       "Census_TotalPhysicalRAM                              5338   0.940236\n",
       "Census_IsAlwaysOnAlwaysConnectedCapable              4470   0.787346\n",
       "Census_OSInstallLanguageIdentifier                   3816   0.672150\n",
       "IeVerIdentifier                                      3791   0.667747\n",
       "Census_PrimaryDiskTotalCapacity                      3360   0.591831\n",
       "Census_SystemVolumeTotalCapacity                     3360   0.591831\n",
       "Census_InternalPrimaryDiagonalDisplaySizeInInches    2930   0.516090\n",
       "Census_InternalPrimaryDisplayResolutionVertical      2921   0.514505\n",
       "Census_InternalPrimaryDisplayResolutionHorizontal    2921   0.514505\n",
       "AVProductsEnabled                                    2627   0.462720\n",
       "AVProductsInstalled                                  2627   0.462720\n",
       "AVProductStatesIdentifier                            2627   0.462720\n",
       "IsProtected                                          2614   0.460430\n",
       "Census_ProcessorModelIdentifier                      2510   0.442112\n",
       "Census_ProcessorManufacturerIdentifier               2509   0.441935\n",
       "Census_ProcessorCoreCount                            2509   0.441935\n",
       "RtpStateBitfield                                     2262   0.398429\n",
       "Census_IsVirtualDevice                               1018   0.179311\n",
       "Census_PrimaryDiskTypeName                            857   0.150952\n",
       "UacLuaenable                                          650   0.114491\n",
       "Census_ChassisTypeName                                 29   0.005108\n",
       "GeoNameIdentifier                                      13   0.002290\n",
       "Census_PowerPlatformRoleName                            5   0.000881\n",
       "OsBuildLab                                              1   0.000176\n",
       "Platform                                                0   0.000000"
      ]
     },
     "execution_count": 13,
     "metadata": {},
     "output_type": "execute_result"
    }
   ],
   "source": [
    "total = train.isnull().sum().sort_values(ascending = False)\n",
    "percent = (train.isnull().sum()/train.isnull().count()*100).sort_values(ascending = False)\n",
    "missing_train_data  = pd.concat([total, percent], axis=1, keys=['Total', 'Percent'])\n",
    "missing_train_data.head(45)"
   ]
  },
  {
   "cell_type": "markdown",
   "metadata": {},
   "source": [
    "#### Removing columns with more than 40% missing data"
   ]
  },
  {
   "cell_type": "code",
   "execution_count": 14,
   "metadata": {},
   "outputs": [
    {
     "name": "stdout",
     "output_type": "stream",
     "text": [
      "Columns with more than 40% null values:  ['DefaultBrowsersIdentifier', 'PuaMode', 'Census_ProcessorClass', 'Census_InternalBatteryType', 'Census_IsFlightingInternal', 'Census_ThresholdOptIn', 'Census_IsWIMBootEnabled']\n"
     ]
    }
   ],
   "source": [
    "high_null_columns = [c for c in train.columns if train[c].count() < len(train)*0.6]\n",
    "train.drop(high_null_columns, axis=1, inplace=True)\n",
    "print('Columns with more than 40% null values: ', high_null_columns)"
   ]
  },
  {
   "cell_type": "markdown",
   "metadata": {},
   "source": [
    "Let's remove from the test dataset also."
   ]
  },
  {
   "cell_type": "code",
   "execution_count": 15,
   "metadata": {},
   "outputs": [],
   "source": [
    "test.drop(high_null_columns, axis=1, inplace=True)"
   ]
  },
  {
   "cell_type": "code",
   "execution_count": 16,
   "metadata": {},
   "outputs": [],
   "source": [
    "#Removing machine ID column\n",
    "del train['MachineIdentifier']"
   ]
  },
  {
   "cell_type": "code",
   "execution_count": 17,
   "metadata": {},
   "outputs": [],
   "source": [
    "machine_id = test['MachineIdentifier'].values\n",
    "del test['MachineIdentifier']"
   ]
  },
  {
   "cell_type": "code",
   "execution_count": 18,
   "metadata": {},
   "outputs": [
    {
     "name": "stdout",
     "output_type": "stream",
     "text": [
      "(567730, 75)\n",
      "(243313, 74)\n"
     ]
    }
   ],
   "source": [
    "print(train.shape)\n",
    "print(test.shape)"
   ]
  },
  {
   "cell_type": "markdown",
   "metadata": {},
   "source": [
    "#### Target Analysis"
   ]
  },
  {
   "cell_type": "code",
   "execution_count": 19,
   "metadata": {},
   "outputs": [
    {
     "data": {
      "image/png": "[encoded data removed]",
      "text/plain": [
       "<Figure size 576x432 with 1 Axes>"
      ]
     },
     "metadata": {
      "needs_background": "light"
     },
     "output_type": "display_data"
    }
   ],
   "source": [
    "plt.figure(figsize=(8,6))\n",
    "\n",
    "ax = sns.countplot('HasDetections', data=train)\n",
    "for p in ax.patches:\n",
    "    ax.annotate('{:.2f}%'.format(100*p.get_height()/len(train['HasDetections'])), \n",
    "                (p.get_x() + 0.3, p.get_height() + 10000))"
   ]
  },
  {
   "cell_type": "markdown",
   "metadata": {},
   "source": [
    "We thus have a class imbalanced probelm at our hand."
   ]
  },
  {
   "cell_type": "markdown",
   "metadata": {},
   "source": [
    "### Checking Skewness"
   ]
  },
  {
   "cell_type": "code",
   "execution_count": 20,
   "metadata": {},
   "outputs": [
    {
     "data": {
      "text/html": [
       "<div>\n",
       "<style scoped>\n",
       "    .dataframe tbody tr th:only-of-type {\n",
       "        vertical-align: middle;\n",
       "    }\n",
       "\n",
       "    .dataframe tbody tr th {\n",
       "        vertical-align: top;\n",
       "    }\n",
       "\n",
       "    .dataframe thead th {\n",
       "        text-align: right;\n",
       "    }\n",
       "</style>\n",
       "<table border=\"1\" class=\"dataframe\">\n",
       "  <thead>\n",
       "    <tr style=\"text-align: right;\">\n",
       "      <th></th>\n",
       "      <th>column</th>\n",
       "      <th>uniq</th>\n",
       "      <th>skewness</th>\n",
       "    </tr>\n",
       "  </thead>\n",
       "  <tbody>\n",
       "    <tr>\n",
       "      <th>4</th>\n",
       "      <td>IsBeta</td>\n",
       "      <td>2</td>\n",
       "      <td>100.00</td>\n",
       "    </tr>\n",
       "    <tr>\n",
       "      <th>63</th>\n",
       "      <td>Census_IsFlightsDisabled</td>\n",
       "      <td>2</td>\n",
       "      <td>100.00</td>\n",
       "    </tr>\n",
       "    <tr>\n",
       "      <th>25</th>\n",
       "      <td>AutoSampleOptIn</td>\n",
       "      <td>2</td>\n",
       "      <td>100.00</td>\n",
       "    </tr>\n",
       "    <tr>\n",
       "      <th>60</th>\n",
       "      <td>Census_IsPortableOperatingSystem</td>\n",
       "      <td>2</td>\n",
       "      <td>99.95</td>\n",
       "    </tr>\n",
       "    <tr>\n",
       "      <th>26</th>\n",
       "      <td>SMode</td>\n",
       "      <td>2</td>\n",
       "      <td>99.93</td>\n",
       "    </tr>\n",
       "    <tr>\n",
       "      <th>32</th>\n",
       "      <td>Census_DeviceFamily</td>\n",
       "      <td>3</td>\n",
       "      <td>99.81</td>\n",
       "    </tr>\n",
       "    <tr>\n",
       "      <th>30</th>\n",
       "      <td>UacLuaenable</td>\n",
       "      <td>5</td>\n",
       "      <td>99.40</td>\n",
       "    </tr>\n",
       "    <tr>\n",
       "      <th>68</th>\n",
       "      <td>Census_IsVirtualDevice</td>\n",
       "      <td>2</td>\n",
       "      <td>99.02</td>\n",
       "    </tr>\n",
       "    <tr>\n",
       "      <th>0</th>\n",
       "      <td>ProductName</td>\n",
       "      <td>6</td>\n",
       "      <td>98.92</td>\n",
       "    </tr>\n",
       "    <tr>\n",
       "      <th>10</th>\n",
       "      <td>HasTpm</td>\n",
       "      <td>2</td>\n",
       "      <td>98.77</td>\n",
       "    </tr>\n",
       "    <tr>\n",
       "      <th>6</th>\n",
       "      <td>IsSxsPassiveMode</td>\n",
       "      <td>2</td>\n",
       "      <td>97.95</td>\n",
       "    </tr>\n",
       "    <tr>\n",
       "      <th>29</th>\n",
       "      <td>Firewall</td>\n",
       "      <td>2</td>\n",
       "      <td>97.83</td>\n",
       "    </tr>\n",
       "    <tr>\n",
       "      <th>5</th>\n",
       "      <td>RtpStateBitfield</td>\n",
       "      <td>6</td>\n",
       "      <td>96.92</td>\n",
       "    </tr>\n",
       "    <tr>\n",
       "      <th>9</th>\n",
       "      <td>AVProductsEnabled</td>\n",
       "      <td>6</td>\n",
       "      <td>96.82</td>\n",
       "    </tr>\n",
       "    <tr>\n",
       "      <th>18</th>\n",
       "      <td>OsVer</td>\n",
       "      <td>13</td>\n",
       "      <td>96.79</td>\n",
       "    </tr>\n",
       "    <tr>\n",
       "      <th>16</th>\n",
       "      <td>Platform</td>\n",
       "      <td>4</td>\n",
       "      <td>96.62</td>\n",
       "    </tr>\n",
       "    <tr>\n",
       "      <th>70</th>\n",
       "      <td>Census_IsPenCapable</td>\n",
       "      <td>2</td>\n",
       "      <td>95.95</td>\n",
       "    </tr>\n",
       "    <tr>\n",
       "      <th>24</th>\n",
       "      <td>IsProtected</td>\n",
       "      <td>2</td>\n",
       "      <td>93.71</td>\n",
       "    </tr>\n",
       "    <tr>\n",
       "      <th>64</th>\n",
       "      <td>Census_FlightRing</td>\n",
       "      <td>8</td>\n",
       "      <td>93.49</td>\n",
       "    </tr>\n",
       "    <tr>\n",
       "      <th>71</th>\n",
       "      <td>Census_IsAlwaysOnAlwaysConnectedCapable</td>\n",
       "      <td>2</td>\n",
       "      <td>93.22</td>\n",
       "    </tr>\n",
       "    <tr>\n",
       "      <th>41</th>\n",
       "      <td>Census_HasOpticalDiskDrive</td>\n",
       "      <td>2</td>\n",
       "      <td>92.67</td>\n",
       "    </tr>\n",
       "    <tr>\n",
       "      <th>50</th>\n",
       "      <td>Census_OSArchitecture</td>\n",
       "      <td>3</td>\n",
       "      <td>89.36</td>\n",
       "    </tr>\n",
       "    <tr>\n",
       "      <th>17</th>\n",
       "      <td>Processor</td>\n",
       "      <td>3</td>\n",
       "      <td>89.35</td>\n",
       "    </tr>\n",
       "    <tr>\n",
       "      <th>61</th>\n",
       "      <td>Census_GenuineStateName</td>\n",
       "      <td>4</td>\n",
       "      <td>88.35</td>\n",
       "    </tr>\n",
       "    <tr>\n",
       "      <th>36</th>\n",
       "      <td>Census_ProcessorManufacturerIdentifier</td>\n",
       "      <td>4</td>\n",
       "      <td>88.14</td>\n",
       "    </tr>\n",
       "    <tr>\n",
       "      <th>69</th>\n",
       "      <td>Census_IsTouchEnabled</td>\n",
       "      <td>2</td>\n",
       "      <td>86.58</td>\n",
       "    </tr>\n",
       "    <tr>\n",
       "      <th>74</th>\n",
       "      <td>HasDetections</td>\n",
       "      <td>2</td>\n",
       "      <td>85.00</td>\n",
       "    </tr>\n",
       "    <tr>\n",
       "      <th>28</th>\n",
       "      <td>SmartScreen</td>\n",
       "      <td>14</td>\n",
       "      <td>83.00</td>\n",
       "    </tr>\n",
       "    <tr>\n",
       "      <th>72</th>\n",
       "      <td>Wdft_IsGamer</td>\n",
       "      <td>2</td>\n",
       "      <td>73.26</td>\n",
       "    </tr>\n",
       "    <tr>\n",
       "      <th>47</th>\n",
       "      <td>Census_PowerPlatformRoleName</td>\n",
       "      <td>9</td>\n",
       "      <td>69.14</td>\n",
       "    </tr>\n",
       "    <tr>\n",
       "      <th>13</th>\n",
       "      <td>OrganizationIdentifier</td>\n",
       "      <td>43</td>\n",
       "      <td>68.38</td>\n",
       "    </tr>\n",
       "    <tr>\n",
       "      <th>8</th>\n",
       "      <td>AVProductsInstalled</td>\n",
       "      <td>6</td>\n",
       "      <td>65.15</td>\n",
       "    </tr>\n",
       "    <tr>\n",
       "      <th>39</th>\n",
       "      <td>Census_PrimaryDiskTypeName</td>\n",
       "      <td>4</td>\n",
       "      <td>64.65</td>\n",
       "    </tr>\n",
       "    <tr>\n",
       "      <th>31</th>\n",
       "      <td>Census_MDC2FormFactor</td>\n",
       "      <td>12</td>\n",
       "      <td>63.98</td>\n",
       "    </tr>\n",
       "    <tr>\n",
       "      <th>20</th>\n",
       "      <td>OsSuite</td>\n",
       "      <td>9</td>\n",
       "      <td>63.02</td>\n",
       "    </tr>\n",
       "    <tr>\n",
       "      <th>23</th>\n",
       "      <td>SkuEdition</td>\n",
       "      <td>8</td>\n",
       "      <td>62.48</td>\n",
       "    </tr>\n",
       "    <tr>\n",
       "      <th>7</th>\n",
       "      <td>AVProductStatesIdentifier</td>\n",
       "      <td>6672</td>\n",
       "      <td>60.43</td>\n",
       "    </tr>\n",
       "    <tr>\n",
       "      <th>35</th>\n",
       "      <td>Census_ProcessorCoreCount</td>\n",
       "      <td>29</td>\n",
       "      <td>60.42</td>\n",
       "    </tr>\n",
       "    <tr>\n",
       "      <th>43</th>\n",
       "      <td>Census_ChassisTypeName</td>\n",
       "      <td>37</td>\n",
       "      <td>58.80</td>\n",
       "    </tr>\n",
       "    <tr>\n",
       "      <th>48</th>\n",
       "      <td>Census_InternalBatteryNumberOfCharges</td>\n",
       "      <td>6518</td>\n",
       "      <td>58.70</td>\n",
       "    </tr>\n",
       "    <tr>\n",
       "      <th>46</th>\n",
       "      <td>Census_InternalPrimaryDisplayResolutionVertical</td>\n",
       "      <td>643</td>\n",
       "      <td>56.22</td>\n",
       "    </tr>\n",
       "    <tr>\n",
       "      <th>2</th>\n",
       "      <td>AppVersion</td>\n",
       "      <td>99</td>\n",
       "      <td>55.12</td>\n",
       "    </tr>\n",
       "    <tr>\n",
       "      <th>62</th>\n",
       "      <td>Census_ActivationChannel</td>\n",
       "      <td>6</td>\n",
       "      <td>53.53</td>\n",
       "    </tr>\n",
       "    <tr>\n",
       "      <th>67</th>\n",
       "      <td>Census_IsSecureBootEnabled</td>\n",
       "      <td>2</td>\n",
       "      <td>51.31</td>\n",
       "    </tr>\n",
       "    <tr>\n",
       "      <th>45</th>\n",
       "      <td>Census_InternalPrimaryDisplayResolutionHorizontal</td>\n",
       "      <td>628</td>\n",
       "      <td>50.90</td>\n",
       "    </tr>\n",
       "    <tr>\n",
       "      <th>42</th>\n",
       "      <td>Census_TotalPhysicalRAM</td>\n",
       "      <td>713</td>\n",
       "      <td>46.47</td>\n",
       "    </tr>\n",
       "    <tr>\n",
       "      <th>1</th>\n",
       "      <td>EngineVersion</td>\n",
       "      <td>52</td>\n",
       "      <td>43.68</td>\n",
       "    </tr>\n",
       "    <tr>\n",
       "      <th>51</th>\n",
       "      <td>Census_OSBranch</td>\n",
       "      <td>18</td>\n",
       "      <td>43.56</td>\n",
       "    </tr>\n",
       "    <tr>\n",
       "      <th>52</th>\n",
       "      <td>Census_OSBuildNumber</td>\n",
       "      <td>72</td>\n",
       "      <td>43.56</td>\n",
       "    </tr>\n",
       "    <tr>\n",
       "      <th>59</th>\n",
       "      <td>Census_OSWUAutoUpdateOptionsName</td>\n",
       "      <td>6</td>\n",
       "      <td>43.34</td>\n",
       "    </tr>\n",
       "    <tr>\n",
       "      <th>19</th>\n",
       "      <td>OsBuild</td>\n",
       "      <td>53</td>\n",
       "      <td>42.63</td>\n",
       "    </tr>\n",
       "    <tr>\n",
       "      <th>21</th>\n",
       "      <td>OsPlatformSubRelease</td>\n",
       "      <td>9</td>\n",
       "      <td>42.63</td>\n",
       "    </tr>\n",
       "    <tr>\n",
       "      <th>27</th>\n",
       "      <td>IeVerIdentifier</td>\n",
       "      <td>192</td>\n",
       "      <td>42.59</td>\n",
       "    </tr>\n",
       "    <tr>\n",
       "      <th>54</th>\n",
       "      <td>Census_OSEdition</td>\n",
       "      <td>26</td>\n",
       "      <td>40.48</td>\n",
       "    </tr>\n",
       "    <tr>\n",
       "      <th>55</th>\n",
       "      <td>Census_OSSkuName</td>\n",
       "      <td>21</td>\n",
       "      <td>40.48</td>\n",
       "    </tr>\n",
       "    <tr>\n",
       "      <th>22</th>\n",
       "      <td>OsBuildLab</td>\n",
       "      <td>480</td>\n",
       "      <td>39.30</td>\n",
       "    </tr>\n",
       "    <tr>\n",
       "      <th>57</th>\n",
       "      <td>Census_OSInstallLanguageIdentifier</td>\n",
       "      <td>39</td>\n",
       "      <td>35.53</td>\n",
       "    </tr>\n",
       "    <tr>\n",
       "      <th>58</th>\n",
       "      <td>Census_OSUILocaleIdentifier</td>\n",
       "      <td>100</td>\n",
       "      <td>35.23</td>\n",
       "    </tr>\n",
       "    <tr>\n",
       "      <th>44</th>\n",
       "      <td>Census_InternalPrimaryDiagonalDisplaySizeInInches</td>\n",
       "      <td>542</td>\n",
       "      <td>33.89</td>\n",
       "    </tr>\n",
       "    <tr>\n",
       "      <th>38</th>\n",
       "      <td>Census_PrimaryDiskTotalCapacity</td>\n",
       "      <td>1284</td>\n",
       "      <td>32.03</td>\n",
       "    </tr>\n",
       "    <tr>\n",
       "      <th>65</th>\n",
       "      <td>Census_FirmwareManufacturerIdentifier</td>\n",
       "      <td>326</td>\n",
       "      <td>30.14</td>\n",
       "    </tr>\n",
       "    <tr>\n",
       "      <th>56</th>\n",
       "      <td>Census_OSInstallTypeName</td>\n",
       "      <td>9</td>\n",
       "      <td>28.17</td>\n",
       "    </tr>\n",
       "    <tr>\n",
       "      <th>15</th>\n",
       "      <td>LocaleEnglishNameIdentifier</td>\n",
       "      <td>238</td>\n",
       "      <td>22.93</td>\n",
       "    </tr>\n",
       "    <tr>\n",
       "      <th>73</th>\n",
       "      <td>Wdft_RegionIdentifier</td>\n",
       "      <td>15</td>\n",
       "      <td>20.57</td>\n",
       "    </tr>\n",
       "    <tr>\n",
       "      <th>14</th>\n",
       "      <td>GeoNameIdentifier</td>\n",
       "      <td>269</td>\n",
       "      <td>16.85</td>\n",
       "    </tr>\n",
       "    <tr>\n",
       "      <th>53</th>\n",
       "      <td>Census_OSBuildRevision</td>\n",
       "      <td>241</td>\n",
       "      <td>15.05</td>\n",
       "    </tr>\n",
       "    <tr>\n",
       "      <th>49</th>\n",
       "      <td>Census_OSVersion</td>\n",
       "      <td>315</td>\n",
       "      <td>15.05</td>\n",
       "    </tr>\n",
       "    <tr>\n",
       "      <th>33</th>\n",
       "      <td>Census_OEMNameIdentifier</td>\n",
       "      <td>1727</td>\n",
       "      <td>14.56</td>\n",
       "    </tr>\n",
       "    <tr>\n",
       "      <th>11</th>\n",
       "      <td>CountryIdentifier</td>\n",
       "      <td>222</td>\n",
       "      <td>4.33</td>\n",
       "    </tr>\n",
       "    <tr>\n",
       "      <th>34</th>\n",
       "      <td>Census_OEMModelIdentifier</td>\n",
       "      <td>44633</td>\n",
       "      <td>3.17</td>\n",
       "    </tr>\n",
       "    <tr>\n",
       "      <th>37</th>\n",
       "      <td>Census_ProcessorModelIdentifier</td>\n",
       "      <td>2351</td>\n",
       "      <td>3.13</td>\n",
       "    </tr>\n",
       "    <tr>\n",
       "      <th>3</th>\n",
       "      <td>AvSigVersion</td>\n",
       "      <td>6849</td>\n",
       "      <td>1.15</td>\n",
       "    </tr>\n",
       "    <tr>\n",
       "      <th>12</th>\n",
       "      <td>CityIdentifier</td>\n",
       "      <td>39700</td>\n",
       "      <td>1.09</td>\n",
       "    </tr>\n",
       "    <tr>\n",
       "      <th>66</th>\n",
       "      <td>Census_FirmwareVersionIdentifier</td>\n",
       "      <td>25025</td>\n",
       "      <td>1.03</td>\n",
       "    </tr>\n",
       "    <tr>\n",
       "      <th>40</th>\n",
       "      <td>Census_SystemVolumeTotalCapacity</td>\n",
       "      <td>151553</td>\n",
       "      <td>0.64</td>\n",
       "    </tr>\n",
       "  </tbody>\n",
       "</table>\n",
       "</div>"
      ],
      "text/plain": [
       "                                               column    uniq  skewness\n",
       "4                                              IsBeta       2    100.00\n",
       "63                           Census_IsFlightsDisabled       2    100.00\n",
       "25                                    AutoSampleOptIn       2    100.00\n",
       "60                   Census_IsPortableOperatingSystem       2     99.95\n",
       "26                                              SMode       2     99.93\n",
       "32                                Census_DeviceFamily       3     99.81\n",
       "30                                       UacLuaenable       5     99.40\n",
       "68                             Census_IsVirtualDevice       2     99.02\n",
       "0                                         ProductName       6     98.92\n",
       "10                                             HasTpm       2     98.77\n",
       "6                                    IsSxsPassiveMode       2     97.95\n",
       "29                                           Firewall       2     97.83\n",
       "5                                    RtpStateBitfield       6     96.92\n",
       "9                                   AVProductsEnabled       6     96.82\n",
       "18                                              OsVer      13     96.79\n",
       "16                                           Platform       4     96.62\n",
       "70                                Census_IsPenCapable       2     95.95\n",
       "24                                        IsProtected       2     93.71\n",
       "64                                  Census_FlightRing       8     93.49\n",
       "71            Census_IsAlwaysOnAlwaysConnectedCapable       2     93.22\n",
       "41                         Census_HasOpticalDiskDrive       2     92.67\n",
       "50                              Census_OSArchitecture       3     89.36\n",
       "17                                          Processor       3     89.35\n",
       "61                            Census_GenuineStateName       4     88.35\n",
       "36             Census_ProcessorManufacturerIdentifier       4     88.14\n",
       "69                              Census_IsTouchEnabled       2     86.58\n",
       "74                                      HasDetections       2     85.00\n",
       "28                                        SmartScreen      14     83.00\n",
       "72                                       Wdft_IsGamer       2     73.26\n",
       "47                       Census_PowerPlatformRoleName       9     69.14\n",
       "13                             OrganizationIdentifier      43     68.38\n",
       "8                                 AVProductsInstalled       6     65.15\n",
       "39                         Census_PrimaryDiskTypeName       4     64.65\n",
       "31                              Census_MDC2FormFactor      12     63.98\n",
       "20                                            OsSuite       9     63.02\n",
       "23                                         SkuEdition       8     62.48\n",
       "7                           AVProductStatesIdentifier    6672     60.43\n",
       "35                          Census_ProcessorCoreCount      29     60.42\n",
       "43                             Census_ChassisTypeName      37     58.80\n",
       "48              Census_InternalBatteryNumberOfCharges    6518     58.70\n",
       "46    Census_InternalPrimaryDisplayResolutionVertical     643     56.22\n",
       "2                                          AppVersion      99     55.12\n",
       "62                           Census_ActivationChannel       6     53.53\n",
       "67                         Census_IsSecureBootEnabled       2     51.31\n",
       "45  Census_InternalPrimaryDisplayResolutionHorizontal     628     50.90\n",
       "42                            Census_TotalPhysicalRAM     713     46.47\n",
       "1                                       EngineVersion      52     43.68\n",
       "51                                    Census_OSBranch      18     43.56\n",
       "52                               Census_OSBuildNumber      72     43.56\n",
       "59                   Census_OSWUAutoUpdateOptionsName       6     43.34\n",
       "19                                            OsBuild      53     42.63\n",
       "21                               OsPlatformSubRelease       9     42.63\n",
       "27                                    IeVerIdentifier     192     42.59\n",
       "54                                   Census_OSEdition      26     40.48\n",
       "55                                   Census_OSSkuName      21     40.48\n",
       "22                                         OsBuildLab     480     39.30\n",
       "57                 Census_OSInstallLanguageIdentifier      39     35.53\n",
       "58                        Census_OSUILocaleIdentifier     100     35.23\n",
       "44  Census_InternalPrimaryDiagonalDisplaySizeInInches     542     33.89\n",
       "38                    Census_PrimaryDiskTotalCapacity    1284     32.03\n",
       "65              Census_FirmwareManufacturerIdentifier     326     30.14\n",
       "56                           Census_OSInstallTypeName       9     28.17\n",
       "15                        LocaleEnglishNameIdentifier     238     22.93\n",
       "73                              Wdft_RegionIdentifier      15     20.57\n",
       "14                                  GeoNameIdentifier     269     16.85\n",
       "53                             Census_OSBuildRevision     241     15.05\n",
       "49                                   Census_OSVersion     315     15.05\n",
       "33                           Census_OEMNameIdentifier    1727     14.56\n",
       "11                                  CountryIdentifier     222      4.33\n",
       "34                          Census_OEMModelIdentifier   44633      3.17\n",
       "37                    Census_ProcessorModelIdentifier    2351      3.13\n",
       "3                                        AvSigVersion    6849      1.15\n",
       "12                                     CityIdentifier   39700      1.09\n",
       "66                   Census_FirmwareVersionIdentifier   25025      1.03\n",
       "40                   Census_SystemVolumeTotalCapacity  151553      0.64"
      ]
     },
     "execution_count": 20,
     "metadata": {},
     "output_type": "execute_result"
    }
   ],
   "source": [
    "pd.options.display.float_format = '{:,.2f}'.format\n",
    "skewed = pd.DataFrame([{'column': c, 'uniq': train[c].nunique(), 'skewness': train[c].value_counts(normalize=True).values[0] * 100} for c in train.columns])\n",
    "skewed = skewed.sort_values('skewness', ascending=False)\n",
    "skewed"
   ]
  },
  {
   "cell_type": "markdown",
   "metadata": {},
   "source": [
    "Let's remove very highly skewed data from the dataset"
   ]
  },
  {
   "cell_type": "code",
   "execution_count": 21,
   "metadata": {},
   "outputs": [],
   "source": [
    "to_drop = []"
   ]
  },
  {
   "cell_type": "code",
   "execution_count": 22,
   "metadata": {},
   "outputs": [
    {
     "data": {
      "text/plain": [
       "['IsBeta',\n",
       " 'Census_IsFlightsDisabled',\n",
       " 'AutoSampleOptIn',\n",
       " 'Census_IsPortableOperatingSystem',\n",
       " 'SMode',\n",
       " 'Census_DeviceFamily',\n",
       " 'UacLuaenable',\n",
       " 'Census_IsVirtualDevice']"
      ]
     },
     "execution_count": 22,
     "metadata": {},
     "output_type": "execute_result"
    }
   ],
   "source": [
    "to_drop.extend(skewed[skewed.skewness > 99].column.tolist())\n",
    "to_drop"
   ]
  },
  {
   "cell_type": "code",
   "execution_count": 23,
   "metadata": {},
   "outputs": [],
   "source": [
    "train.drop(to_drop, axis=1, inplace=True)\n",
    "test.drop(to_drop, axis=1, inplace=True)"
   ]
  },
  {
   "cell_type": "code",
   "execution_count": 24,
   "metadata": {},
   "outputs": [
    {
     "name": "stdout",
     "output_type": "stream",
     "text": [
      "(567730, 67)\n",
      "(243313, 66)\n"
     ]
    }
   ],
   "source": [
    "print(train.shape)\n",
    "print(test.shape)"
   ]
  },
  {
   "cell_type": "markdown",
   "metadata": {},
   "source": [
    "### Feature Selection (Numerical Data)"
   ]
  },
  {
   "cell_type": "code",
   "execution_count": 25,
   "metadata": {},
   "outputs": [
    {
     "data": {
      "text/plain": [
       "['IsSxsPassiveMode',\n",
       " 'AVProductsInstalled',\n",
       " 'Census_ProcessorModelIdentifier',\n",
       " 'Census_SystemVolumeTotalCapacity',\n",
       " 'Census_InternalPrimaryDisplayResolutionVertical',\n",
       " 'Census_OSBuildNumber',\n",
       " 'Census_OSUILocaleIdentifier']"
      ]
     },
     "execution_count": 25,
     "metadata": {},
     "output_type": "execute_result"
    }
   ],
   "source": [
    "corr_matrix = train.corr().abs()\n",
    "# Select upper triangle of correlation matrix\n",
    "upper = corr_matrix.where(np.triu(np.ones(corr_matrix.shape), k=1).astype(np.bool))\n",
    "# Find index of feature columns with correlation greater than 0.6\n",
    "to_drop = [column for column in upper.columns if any(upper[column] > 0.6)]\n",
    "to_drop"
   ]
  },
  {
   "cell_type": "code",
   "execution_count": 26,
   "metadata": {},
   "outputs": [],
   "source": [
    "# Dropping those columns from the train set\n",
    "train = train.drop(train[to_drop], axis=1)\n",
    "# Dropping those columns from the test set\n",
    "test = test.drop(test[to_drop], axis=1)"
   ]
  },
  {
   "cell_type": "code",
   "execution_count": 27,
   "metadata": {},
   "outputs": [
    {
     "name": "stdout",
     "output_type": "stream",
     "text": [
      "(567730, 60)\n",
      "(243313, 59)\n"
     ]
    }
   ],
   "source": [
    "print(train.shape)\n",
    "print(test.shape)"
   ]
  },
  {
   "cell_type": "markdown",
   "metadata": {},
   "source": [
    "### Feature Selection (non-numerical / categorical data)"
   ]
  },
  {
   "cell_type": "code",
   "execution_count": 28,
   "metadata": {},
   "outputs": [
    {
     "name": "stdout",
     "output_type": "stream",
     "text": [
      "Index(['ProductName', 'EngineVersion', 'AppVersion', 'AvSigVersion',\n",
      "       'Platform', 'Processor', 'OsVer', 'OsPlatformSubRelease', 'OsBuildLab',\n",
      "       'SkuEdition', 'SmartScreen', 'Census_MDC2FormFactor',\n",
      "       'Census_PrimaryDiskTypeName', 'Census_ChassisTypeName',\n",
      "       'Census_PowerPlatformRoleName', 'Census_OSVersion',\n",
      "       'Census_OSArchitecture', 'Census_OSBranch', 'Census_OSEdition',\n",
      "       'Census_OSSkuName', 'Census_OSInstallTypeName',\n",
      "       'Census_OSWUAutoUpdateOptionsName', 'Census_GenuineStateName',\n",
      "       'Census_ActivationChannel', 'Census_FlightRing'],\n",
      "      dtype='object')\n"
     ]
    }
   ],
   "source": [
    "# Creating a list to store non numerical (categorical) data of object type\n",
    "objList = train.select_dtypes(include = \"object\").columns\n",
    "print (objList)"
   ]
  },
  {
   "cell_type": "code",
   "execution_count": 29,
   "metadata": {},
   "outputs": [
    {
     "name": "stdout",
     "output_type": "stream",
     "text": [
      "ProductName 6\n",
      "EngineVersion 52\n",
      "AppVersion 99\n",
      "AvSigVersion 6849\n",
      "Platform 4\n",
      "Processor 3\n",
      "OsVer 13\n",
      "OsPlatformSubRelease 9\n",
      "OsBuildLab 481\n",
      "SkuEdition 8\n",
      "SmartScreen 15\n",
      "Census_MDC2FormFactor 12\n",
      "Census_PrimaryDiskTypeName 5\n",
      "Census_ChassisTypeName 38\n",
      "Census_PowerPlatformRoleName 10\n",
      "Census_OSVersion 315\n",
      "Census_OSArchitecture 3\n",
      "Census_OSBranch 18\n",
      "Census_OSEdition 26\n",
      "Census_OSSkuName 21\n",
      "Census_OSInstallTypeName 9\n",
      "Census_OSWUAutoUpdateOptionsName 6\n",
      "Census_GenuineStateName 4\n",
      "Census_ActivationChannel 6\n",
      "Census_FlightRing 8\n"
     ]
    }
   ],
   "source": [
    "# Printing number of categories in each column\n",
    "for i in objList:\n",
    "    print (i,len(train[i].unique()))"
   ]
  },
  {
   "cell_type": "code",
   "execution_count": 30,
   "metadata": {},
   "outputs": [
    {
     "data": {
      "image/png": "[encoded data removed]",
      "text/plain": [
       "<Figure size 432x288 with 1 Axes>"
      ]
     },
     "metadata": {
      "needs_background": "light"
     },
     "output_type": "display_data"
    },
    {
     "data": {
      "text/plain": [
       "<Figure size 3600x3600 with 0 Axes>"
      ]
     },
     "metadata": {},
     "output_type": "display_data"
    },
    {
     "data": {
      "image/png": "[encoded data removed]",
      "text/plain": [
       "<Figure size 432x288 with 1 Axes>"
      ]
     },
     "metadata": {
      "needs_background": "light"
     },
     "output_type": "display_data"
    },
    {
     "data": {
      "text/plain": [
       "<Figure size 3600x3600 with 0 Axes>"
      ]
     },
     "metadata": {},
     "output_type": "display_data"
    },
    {
     "data": {
      "image/png": "[encoded data removed]",
      "text/plain": [
       "<Figure size 432x288 with 1 Axes>"
      ]
     },
     "metadata": {
      "needs_background": "light"
     },
     "output_type": "display_data"
    },
    {
     "data": {
      "text/plain": [
       "<Figure size 3600x3600 with 0 Axes>"
      ]
     },
     "metadata": {},
     "output_type": "display_data"
    },
    {
     "data": {
      "image/png": "[encoded data removed]",
      "text/plain": [
       "<Figure size 432x288 with 1 Axes>"
      ]
     },
     "metadata": {
      "needs_background": "light"
     },
     "output_type": "display_data"
    },
    {
     "data": {
      "text/plain": [
       "<Figure size 3600x3600 with 0 Axes>"
      ]
     },
     "metadata": {},
     "output_type": "display_data"
    },
    {
     "data": {
      "image/png": "[encoded data removed]",
      "text/plain": [
       "<Figure size 432x288 with 1 Axes>"
      ]
     },
     "metadata": {
      "needs_background": "light"
     },
     "output_type": "display_data"
    },
    {
     "data": {
      "text/plain": [
       "<Figure size 3600x3600 with 0 Axes>"
      ]
     },
     "metadata": {},
     "output_type": "display_data"
    },
    {
     "data": {
      "image/png": "[encoded data removed]",
      "text/plain": [
       "<Figure size 432x288 with 1 Axes>"
      ]
     },
     "metadata": {
      "needs_background": "light"
     },
     "output_type": "display_data"
    },
    {
     "data": {
      "text/plain": [
       "<Figure size 3600x3600 with 0 Axes>"
      ]
     },
     "metadata": {},
     "output_type": "display_data"
    },
    {
     "data": {
      "image/png": "[encoded data removed]",
      "text/plain": [
       "<Figure size 432x288 with 1 Axes>"
      ]
     },
     "metadata": {
      "needs_background": "light"
     },
     "output_type": "display_data"
    },
    {
     "data": {
      "text/plain": [
       "<Figure size 3600x3600 with 0 Axes>"
      ]
     },
     "metadata": {},
     "output_type": "display_data"
    },
    {
     "data": {
      "image/png": "[encoded data removed]",
      "text/plain": [
       "<Figure size 432x288 with 1 Axes>"
      ]
     },
     "metadata": {
      "needs_background": "light"
     },
     "output_type": "display_data"
    },
    {
     "data": {
      "text/plain": [
       "<Figure size 3600x3600 with 0 Axes>"
      ]
     },
     "metadata": {},
     "output_type": "display_data"
    },
    {
     "data": {
      "image/png": "[encoded data removed]",
      "text/plain": [
       "<Figure size 432x288 with 1 Axes>"
      ]
     },
     "metadata": {
      "needs_background": "light"
     },
     "output_type": "display_data"
    },
    {
     "data": {
      "text/plain": [
       "<Figure size 3600x3600 with 0 Axes>"
      ]
     },
     "metadata": {},
     "output_type": "display_data"
    },
    {
     "data": {
      "image/png": "[encoded data removed]",
      "text/plain": [
       "<Figure size 432x288 with 1 Axes>"
      ]
     },
     "metadata": {
      "needs_background": "light"
     },
     "output_type": "display_data"
    },
    {
     "data": {
      "text/plain": [
       "<Figure size 3600x3600 with 0 Axes>"
      ]
     },
     "metadata": {},
     "output_type": "display_data"
    },
    {
     "data": {
      "image/png": "[encoded data removed]",
      "text/plain": [
       "<Figure size 432x288 with 1 Axes>"
      ]
     },
     "metadata": {
      "needs_background": "light"
     },
     "output_type": "display_data"
    },
    {
     "data": {
      "text/plain": [
       "<Figure size 3600x3600 with 0 Axes>"
      ]
     },
     "metadata": {},
     "output_type": "display_data"
    },
    {
     "data": {
      "image/png": "[encoded data removed]",
      "text/plain": [
       "<Figure size 432x288 with 1 Axes>"
      ]
     },
     "metadata": {
      "needs_background": "light"
     },
     "output_type": "display_data"
    },
    {
     "data": {
      "text/plain": [
       "<Figure size 3600x3600 with 0 Axes>"
      ]
     },
     "metadata": {},
     "output_type": "display_data"
    }
   ],
   "source": [
    "# Visualizing columns having number of categories <= 9 since having large number of categories increases model computation expensive and \n",
    "#makes incorrect predictions\n",
    "for i in objList:\n",
    "    n = len(train[i].unique())\n",
    "    if(n<=9):\n",
    "\n",
    "        ax = sns.countplot(x=i, hue=\"HasDetections\", data=train)\n",
    "        ax.set_xticklabels(ax.get_xticklabels(), rotation=40, ha=\"right\")\n",
    "        plt.figure(figsize = (50,50))\n",
    "        plt.show()    "
   ]
  },
  {
   "cell_type": "code",
   "execution_count": 31,
   "metadata": {},
   "outputs": [
    {
     "data": {
      "text/plain": [
       "['ProductName',\n",
       " 'Platform',\n",
       " 'Processor',\n",
       " 'OsPlatformSubRelease',\n",
       " 'SkuEdition',\n",
       " 'Census_PrimaryDiskTypeName',\n",
       " 'Census_OSArchitecture',\n",
       " 'Census_OSInstallTypeName',\n",
       " 'Census_OSWUAutoUpdateOptionsName',\n",
       " 'Census_GenuineStateName',\n",
       " 'Census_ActivationChannel',\n",
       " 'Census_FlightRing']"
      ]
     },
     "execution_count": 31,
     "metadata": {},
     "output_type": "execute_result"
    }
   ],
   "source": [
    "# Storing useful columns (having no. of categories <= 9) in the list newlist\n",
    "newlist = []\n",
    "for i in objList:\n",
    "    n = len(train[i].unique())\n",
    "    if(n<=9):\n",
    "      newlist.append (i)\n",
    "newlist        "
   ]
  },
  {
   "cell_type": "code",
   "execution_count": 32,
   "metadata": {},
   "outputs": [],
   "source": [
    "# Dropping useless columns (having no. of categories > 9) from train and test\n",
    "for i in objList:\n",
    "    n = len(train[i].unique())\n",
    "    if(n>9):\n",
    "        train=train.drop([i],axis=1)\n",
    "        test=test.drop([i],axis=1)"
   ]
  },
  {
   "cell_type": "code",
   "execution_count": 33,
   "metadata": {},
   "outputs": [
    {
     "name": "stdout",
     "output_type": "stream",
     "text": [
      "(567730, 47)\n",
      "(243313, 46)\n"
     ]
    }
   ],
   "source": [
    "print(train.shape)\n",
    "print(test.shape)"
   ]
  },
  {
   "cell_type": "markdown",
   "metadata": {},
   "source": [
    "#### Label Encoding"
   ]
  },
  {
   "cell_type": "code",
   "execution_count": 34,
   "metadata": {},
   "outputs": [
    {
     "name": "stdout",
     "output_type": "stream",
     "text": [
      "<class 'pandas.core.frame.DataFrame'>\n",
      "RangeIndex: 567730 entries, 0 to 567729\n",
      "Data columns (total 47 columns):\n",
      " #   Column                                             Non-Null Count   Dtype  \n",
      "---  ------                                             --------------   -----  \n",
      " 0   ProductName                                        567730 non-null  int64  \n",
      " 1   RtpStateBitfield                                   565468 non-null  float64\n",
      " 2   AVProductStatesIdentifier                          565103 non-null  float64\n",
      " 3   AVProductsEnabled                                  565103 non-null  float64\n",
      " 4   HasTpm                                             567730 non-null  int64  \n",
      " 5   CountryIdentifier                                  567730 non-null  int64  \n",
      " 6   CityIdentifier                                     546792 non-null  float64\n",
      " 7   OrganizationIdentifier                             392865 non-null  float64\n",
      " 8   GeoNameIdentifier                                  567717 non-null  float64\n",
      " 9   LocaleEnglishNameIdentifier                        567730 non-null  int64  \n",
      " 10  Platform                                           567730 non-null  int64  \n",
      " 11  Processor                                          567730 non-null  int64  \n",
      " 12  OsBuild                                            567730 non-null  int64  \n",
      " 13  OsSuite                                            567730 non-null  int64  \n",
      " 14  OsPlatformSubRelease                               567730 non-null  int64  \n",
      " 15  SkuEdition                                         567730 non-null  int64  \n",
      " 16  IsProtected                                        565116 non-null  float64\n",
      " 17  IeVerIdentifier                                    563939 non-null  float64\n",
      " 18  Firewall                                           561966 non-null  float64\n",
      " 19  Census_OEMNameIdentifier                           561385 non-null  float64\n",
      " 20  Census_OEMModelIdentifier                          560952 non-null  float64\n",
      " 21  Census_ProcessorCoreCount                          565221 non-null  float64\n",
      " 22  Census_ProcessorManufacturerIdentifier             565221 non-null  float64\n",
      " 23  Census_PrimaryDiskTotalCapacity                    564370 non-null  float64\n",
      " 24  Census_PrimaryDiskTypeName                         567730 non-null  int64  \n",
      " 25  Census_HasOpticalDiskDrive                         567730 non-null  int64  \n",
      " 26  Census_TotalPhysicalRAM                            562392 non-null  float64\n",
      " 27  Census_InternalPrimaryDiagonalDisplaySizeInInches  564800 non-null  float64\n",
      " 28  Census_InternalPrimaryDisplayResolutionHorizontal  564809 non-null  float64\n",
      " 29  Census_InternalBatteryNumberOfCharges              551462 non-null  float64\n",
      " 30  Census_OSArchitecture                              567730 non-null  int64  \n",
      " 31  Census_OSBuildRevision                             567730 non-null  int64  \n",
      " 32  Census_OSInstallTypeName                           567730 non-null  int64  \n",
      " 33  Census_OSInstallLanguageIdentifier                 563914 non-null  float64\n",
      " 34  Census_OSWUAutoUpdateOptionsName                   567730 non-null  int64  \n",
      " 35  Census_GenuineStateName                            567730 non-null  int64  \n",
      " 36  Census_ActivationChannel                           567730 non-null  int64  \n",
      " 37  Census_FlightRing                                  567730 non-null  int64  \n",
      " 38  Census_FirmwareManufacturerIdentifier              554840 non-null  float64\n",
      " 39  Census_FirmwareVersionIdentifier                   556477 non-null  float64\n",
      " 40  Census_IsSecureBootEnabled                         567730 non-null  int64  \n",
      " 41  Census_IsTouchEnabled                              567730 non-null  int64  \n",
      " 42  Census_IsPenCapable                                567730 non-null  int64  \n",
      " 43  Census_IsAlwaysOnAlwaysConnectedCapable            563260 non-null  float64\n",
      " 44  Wdft_IsGamer                                       549025 non-null  float64\n",
      " 45  Wdft_RegionIdentifier                              549025 non-null  float64\n",
      " 46  HasDetections                                      567730 non-null  int64  \n",
      "dtypes: float64(24), int64(23)\n",
      "memory usage: 203.6 MB\n",
      "None\n"
     ]
    }
   ],
   "source": [
    "#Label Encoding for object to numeric conversion in training set\n",
    "from sklearn.preprocessing import LabelEncoder\n",
    "le = LabelEncoder()\n",
    "\n",
    "for feat in newlist:\n",
    "    train[feat] = le.fit_transform(train[feat].astype(str))\n",
    "    \n",
    "print (train.info())"
   ]
  },
  {
   "cell_type": "code",
   "execution_count": 35,
   "metadata": {},
   "outputs": [
    {
     "name": "stdout",
     "output_type": "stream",
     "text": [
      "<class 'pandas.core.frame.DataFrame'>\n",
      "RangeIndex: 243313 entries, 0 to 243312\n",
      "Data columns (total 46 columns):\n",
      " #   Column                                             Non-Null Count   Dtype  \n",
      "---  ------                                             --------------   -----  \n",
      " 0   ProductName                                        243313 non-null  int64  \n",
      " 1   RtpStateBitfield                                   242361 non-null  float64\n",
      " 2   AVProductStatesIdentifier                          242156 non-null  float64\n",
      " 3   AVProductsEnabled                                  242156 non-null  float64\n",
      " 4   HasTpm                                             243313 non-null  int64  \n",
      " 5   CountryIdentifier                                  243313 non-null  int64  \n",
      " 6   CityIdentifier                                     234367 non-null  float64\n",
      " 7   OrganizationIdentifier                             168182 non-null  float64\n",
      " 8   GeoNameIdentifier                                  243306 non-null  float64\n",
      " 9   LocaleEnglishNameIdentifier                        243313 non-null  int64  \n",
      " 10  Platform                                           243313 non-null  int64  \n",
      " 11  Processor                                          243313 non-null  int64  \n",
      " 12  OsBuild                                            243313 non-null  int64  \n",
      " 13  OsSuite                                            243313 non-null  int64  \n",
      " 14  OsPlatformSubRelease                               243313 non-null  int64  \n",
      " 15  SkuEdition                                         243313 non-null  int64  \n",
      " 16  IsProtected                                        242160 non-null  float64\n",
      " 17  IeVerIdentifier                                    241659 non-null  float64\n",
      " 18  Firewall                                           240776 non-null  float64\n",
      " 19  Census_OEMNameIdentifier                           240700 non-null  float64\n",
      " 20  Census_OEMModelIdentifier                          240462 non-null  float64\n",
      " 21  Census_ProcessorCoreCount                          242245 non-null  float64\n",
      " 22  Census_ProcessorManufacturerIdentifier             242245 non-null  float64\n",
      " 23  Census_PrimaryDiskTotalCapacity                    241933 non-null  float64\n",
      " 24  Census_PrimaryDiskTypeName                         243313 non-null  int64  \n",
      " 25  Census_HasOpticalDiskDrive                         243313 non-null  int64  \n",
      " 26  Census_TotalPhysicalRAM                            241033 non-null  float64\n",
      " 27  Census_InternalPrimaryDiagonalDisplaySizeInInches  242026 non-null  float64\n",
      " 28  Census_InternalPrimaryDisplayResolutionHorizontal  242035 non-null  float64\n",
      " 29  Census_InternalBatteryNumberOfCharges              236420 non-null  float64\n",
      " 30  Census_OSArchitecture                              243313 non-null  int64  \n",
      " 31  Census_OSBuildRevision                             243313 non-null  int64  \n",
      " 32  Census_OSInstallTypeName                           243313 non-null  int64  \n",
      " 33  Census_OSInstallLanguageIdentifier                 241715 non-null  float64\n",
      " 34  Census_OSWUAutoUpdateOptionsName                   243313 non-null  int64  \n",
      " 35  Census_GenuineStateName                            243313 non-null  int64  \n",
      " 36  Census_ActivationChannel                           243313 non-null  int64  \n",
      " 37  Census_FlightRing                                  243313 non-null  int64  \n",
      " 38  Census_FirmwareManufacturerIdentifier              237799 non-null  float64\n",
      " 39  Census_FirmwareVersionIdentifier                   238479 non-null  float64\n",
      " 40  Census_IsSecureBootEnabled                         243313 non-null  int64  \n",
      " 41  Census_IsTouchEnabled                              243313 non-null  int64  \n",
      " 42  Census_IsPenCapable                                243313 non-null  int64  \n",
      " 43  Census_IsAlwaysOnAlwaysConnectedCapable            241403 non-null  float64\n",
      " 44  Wdft_IsGamer                                       235187 non-null  float64\n",
      " 45  Wdft_RegionIdentifier                              235187 non-null  float64\n",
      "dtypes: float64(24), int64(22)\n",
      "memory usage: 85.4 MB\n",
      "None\n"
     ]
    }
   ],
   "source": [
    "#Label Encoding for object to numeric conversion in test set\n",
    "from sklearn.preprocessing import LabelEncoder\n",
    "le = LabelEncoder()\n",
    "\n",
    "for feat in newlist:\n",
    "    test[feat] = le.fit_transform(test[feat].astype(str))\n",
    "    \n",
    "print (test.info())"
   ]
  },
  {
   "cell_type": "markdown",
   "metadata": {},
   "source": [
    "#### Impute Missing Data"
   ]
  },
  {
   "cell_type": "code",
   "execution_count": 36,
   "metadata": {},
   "outputs": [],
   "source": [
    "# Simple Imputing Training and Test Sets\n",
    "from sklearn.impute import SimpleImputer\n",
    "fill_NaN = SimpleImputer(missing_values=np.nan, strategy='mean')\n",
    "train = pd.DataFrame(fill_NaN.fit_transform(train),columns = train.columns)\n",
    "train_Label = pd.DataFrame(train['HasDetections'])\n",
    "train = train.drop(['HasDetections'],axis=1)\n",
    "test = pd.DataFrame(fill_NaN.fit_transform(test),columns = train.columns)"
   ]
  },
  {
   "cell_type": "code",
   "execution_count": 37,
   "metadata": {},
   "outputs": [
    {
     "data": {
      "text/plain": [
       "ProductName                                          0\n",
       "RtpStateBitfield                                     0\n",
       "AVProductStatesIdentifier                            0\n",
       "AVProductsEnabled                                    0\n",
       "HasTpm                                               0\n",
       "CountryIdentifier                                    0\n",
       "CityIdentifier                                       0\n",
       "OrganizationIdentifier                               0\n",
       "GeoNameIdentifier                                    0\n",
       "LocaleEnglishNameIdentifier                          0\n",
       "Platform                                             0\n",
       "Processor                                            0\n",
       "OsBuild                                              0\n",
       "OsSuite                                              0\n",
       "OsPlatformSubRelease                                 0\n",
       "SkuEdition                                           0\n",
       "IsProtected                                          0\n",
       "IeVerIdentifier                                      0\n",
       "Firewall                                             0\n",
       "Census_OEMNameIdentifier                             0\n",
       "Census_OEMModelIdentifier                            0\n",
       "Census_ProcessorCoreCount                            0\n",
       "Census_ProcessorManufacturerIdentifier               0\n",
       "Census_PrimaryDiskTotalCapacity                      0\n",
       "Census_PrimaryDiskTypeName                           0\n",
       "Census_HasOpticalDiskDrive                           0\n",
       "Census_TotalPhysicalRAM                              0\n",
       "Census_InternalPrimaryDiagonalDisplaySizeInInches    0\n",
       "Census_InternalPrimaryDisplayResolutionHorizontal    0\n",
       "Census_InternalBatteryNumberOfCharges                0\n",
       "Census_OSArchitecture                                0\n",
       "Census_OSBuildRevision                               0\n",
       "Census_OSInstallTypeName                             0\n",
       "Census_OSInstallLanguageIdentifier                   0\n",
       "Census_OSWUAutoUpdateOptionsName                     0\n",
       "Census_GenuineStateName                              0\n",
       "Census_ActivationChannel                             0\n",
       "Census_FlightRing                                    0\n",
       "Census_FirmwareManufacturerIdentifier                0\n",
       "Census_FirmwareVersionIdentifier                     0\n",
       "Census_IsSecureBootEnabled                           0\n",
       "Census_IsTouchEnabled                                0\n",
       "Census_IsPenCapable                                  0\n",
       "Census_IsAlwaysOnAlwaysConnectedCapable              0\n",
       "Wdft_IsGamer                                         0\n",
       "Wdft_RegionIdentifier                                0\n",
       "dtype: int64"
      ]
     },
     "execution_count": 37,
     "metadata": {},
     "output_type": "execute_result"
    }
   ],
   "source": [
    "train.isnull().sum()"
   ]
  },
  {
   "cell_type": "code",
   "execution_count": 38,
   "metadata": {},
   "outputs": [
    {
     "data": {
      "text/plain": [
       "ProductName                                          0\n",
       "RtpStateBitfield                                     0\n",
       "AVProductStatesIdentifier                            0\n",
       "AVProductsEnabled                                    0\n",
       "HasTpm                                               0\n",
       "CountryIdentifier                                    0\n",
       "CityIdentifier                                       0\n",
       "OrganizationIdentifier                               0\n",
       "GeoNameIdentifier                                    0\n",
       "LocaleEnglishNameIdentifier                          0\n",
       "Platform                                             0\n",
       "Processor                                            0\n",
       "OsBuild                                              0\n",
       "OsSuite                                              0\n",
       "OsPlatformSubRelease                                 0\n",
       "SkuEdition                                           0\n",
       "IsProtected                                          0\n",
       "IeVerIdentifier                                      0\n",
       "Firewall                                             0\n",
       "Census_OEMNameIdentifier                             0\n",
       "Census_OEMModelIdentifier                            0\n",
       "Census_ProcessorCoreCount                            0\n",
       "Census_ProcessorManufacturerIdentifier               0\n",
       "Census_PrimaryDiskTotalCapacity                      0\n",
       "Census_PrimaryDiskTypeName                           0\n",
       "Census_HasOpticalDiskDrive                           0\n",
       "Census_TotalPhysicalRAM                              0\n",
       "Census_InternalPrimaryDiagonalDisplaySizeInInches    0\n",
       "Census_InternalPrimaryDisplayResolutionHorizontal    0\n",
       "Census_InternalBatteryNumberOfCharges                0\n",
       "Census_OSArchitecture                                0\n",
       "Census_OSBuildRevision                               0\n",
       "Census_OSInstallTypeName                             0\n",
       "Census_OSInstallLanguageIdentifier                   0\n",
       "Census_OSWUAutoUpdateOptionsName                     0\n",
       "Census_GenuineStateName                              0\n",
       "Census_ActivationChannel                             0\n",
       "Census_FlightRing                                    0\n",
       "Census_FirmwareManufacturerIdentifier                0\n",
       "Census_FirmwareVersionIdentifier                     0\n",
       "Census_IsSecureBootEnabled                           0\n",
       "Census_IsTouchEnabled                                0\n",
       "Census_IsPenCapable                                  0\n",
       "Census_IsAlwaysOnAlwaysConnectedCapable              0\n",
       "Wdft_IsGamer                                         0\n",
       "Wdft_RegionIdentifier                                0\n",
       "dtype: int64"
      ]
     },
     "execution_count": 38,
     "metadata": {},
     "output_type": "execute_result"
    }
   ],
   "source": [
    "test.isnull().sum()"
   ]
  },
  {
   "cell_type": "markdown",
   "metadata": {},
   "source": [
    "#### Correlation"
   ]
  },
  {
   "cell_type": "markdown",
   "metadata": {},
   "source": [
    "Visualizing Correlation of columns with target feature in groups of 10"
   ]
  },
  {
   "cell_type": "code",
   "execution_count": 39,
   "metadata": {},
   "outputs": [],
   "source": [
    "corr_to_remove = []"
   ]
  },
  {
   "cell_type": "code",
   "execution_count": 40,
   "metadata": {},
   "outputs": [],
   "source": [
    "train['HasDetections'] = train_label"
   ]
  },
  {
   "cell_type": "code",
   "execution_count": 41,
   "metadata": {},
   "outputs": [],
   "source": [
    "cols = train.columns.tolist()"
   ]
  },
  {
   "cell_type": "code",
   "execution_count": 42,
   "metadata": {},
   "outputs": [
    {
     "data": {
      "image/png": "[encoded data removed]",
      "text/plain": [
       "<Figure size 864x648 with 2 Axes>"
      ]
     },
     "metadata": {
      "needs_background": "light"
     },
     "output_type": "display_data"
    }
   ],
   "source": [
    "plt.figure(figsize=(12,9))\n",
    "corr_cols = cols[:10]\n",
    "corr_cols.append('HasDetections')\n",
    "sns.heatmap(train[corr_cols].corr(), annot=True,center=0,linewidths=.5,cmap=\"coolwarm\",robust=True)\n",
    "plt.title('Correlation between columns 1-10')\n",
    "plt.show()"
   ]
  },
  {
   "cell_type": "markdown",
   "metadata": {},
   "source": [
    "Nothing significant we learn from this heatmap"
   ]
  },
  {
   "cell_type": "code",
   "execution_count": 43,
   "metadata": {},
   "outputs": [
    {
     "data": {
      "image/png": "[encoded data removed]",
      "text/plain": [
       "<Figure size 864x648 with 2 Axes>"
      ]
     },
     "metadata": {
      "needs_background": "light"
     },
     "output_type": "display_data"
    }
   ],
   "source": [
    "corr_cols = cols[10:20]\n",
    "corr_cols.append('HasDetections')\n",
    "plt.figure(figsize=(12,9))\n",
    "sns.heatmap(train[corr_cols].corr(), annot=True,center=0,linewidths=.5,cmap=\"coolwarm\",robust=True)\n",
    "plt.title('Correlation between 11 - 20th columns')\n",
    "plt.show()"
   ]
  },
  {
   "cell_type": "markdown",
   "metadata": {},
   "source": [
    "Platform has high correlation with 3 features. Let's see what values it contain."
   ]
  },
  {
   "cell_type": "code",
   "execution_count": 44,
   "metadata": {},
   "outputs": [
    {
     "name": "stdout",
     "output_type": "stream",
     "text": [
      "0.00    548523\n",
      "3.00     12138\n",
      "2.00      6021\n",
      "1.00      1048\n",
      "Name: Platform, dtype: int64\n",
      "4\n"
     ]
    }
   ],
   "source": [
    "print(train.Platform.value_counts())\n",
    "print(train.Platform.nunique())"
   ]
  },
  {
   "cell_type": "markdown",
   "metadata": {},
   "source": [
    "Most of the values are 0. We can safely drop this feature."
   ]
  },
  {
   "cell_type": "code",
   "execution_count": 45,
   "metadata": {},
   "outputs": [
    {
     "name": "stdout",
     "output_type": "stream",
     "text": [
      "17,134.00    242003\n",
      "16,299.00    160988\n",
      "15,063.00     50761\n",
      "14,393.00     49165\n",
      "10,586.00     27614\n",
      "10,240.00     17545\n",
      "9,600.00      12138\n",
      "7,601.00       5985\n",
      "17,692.00       229\n",
      "17,738.00       169\n",
      "17,744.00       156\n",
      "17,758.00        89\n",
      "17,751.00        82\n",
      "17,713.00        81\n",
      "17,746.00        81\n",
      "17,754.00        77\n",
      "17,760.00        59\n",
      "17,741.00        59\n",
      "17,755.00        51\n",
      "17,735.00        51\n",
      "17,763.00        43\n",
      "17,733.00        41\n",
      "7,600.00         36\n",
      "17,672.00        36\n",
      "17,686.00        35\n",
      "17,677.00        22\n",
      "18,234.00        16\n",
      "17,666.00        16\n",
      "17,682.00        15\n",
      "17,704.00        11\n",
      "17,730.00         9\n",
      "18,237.00         9\n",
      "17,634.00         6\n",
      "17,723.00         5\n",
      "18,242.00         5\n",
      "17,643.00         4\n",
      "17,747.00         4\n",
      "17,661.00         4\n",
      "17,711.00         4\n",
      "17,728.00         4\n",
      "17,627.00         3\n",
      "17,655.00         3\n",
      "17,650.00         3\n",
      "17,639.00         2\n",
      "18,219.00         2\n",
      "17,761.00         2\n",
      "17,618.00         1\n",
      "17,604.00         1\n",
      "18,204.00         1\n",
      "17,133.00         1\n",
      "18,240.00         1\n",
      "17,753.00         1\n",
      "17,689.00         1\n",
      "Name: OsBuild, dtype: int64\n",
      "53\n"
     ]
    }
   ],
   "source": [
    "print(train.OsBuild.value_counts())\n",
    "print(train.OsBuild.nunique())"
   ]
  },
  {
   "cell_type": "code",
   "execution_count": 46,
   "metadata": {},
   "outputs": [
    {
     "name": "stdout",
     "output_type": "stream",
     "text": [
      "4.00    242003\n",
      "3.00    160988\n",
      "2.00     50761\n",
      "1.00     49165\n",
      "6.00     27614\n",
      "5.00     17545\n",
      "8.00     12138\n",
      "7.00      6021\n",
      "0.00      1495\n",
      "Name: OsPlatformSubRelease, dtype: int64\n",
      "9\n"
     ]
    }
   ],
   "source": [
    "print(train.OsPlatformSubRelease.value_counts())\n",
    "print(train.OsPlatformSubRelease.nunique())"
   ]
  },
  {
   "cell_type": "code",
   "execution_count": 47,
   "metadata": {},
   "outputs": [
    {
     "name": "stdout",
     "output_type": "stream",
     "text": [
      "137.00    240158\n",
      "117.00    113531\n",
      "108.00     30997\n",
      "111.00     29398\n",
      "98.00      23418\n",
      "135.00     14422\n",
      "74.00      13935\n",
      "53.00      13319\n",
      "94.00      11528\n",
      "105.00     10885\n",
      "333.00      9464\n",
      "107.00      8607\n",
      "103.00      8010\n",
      "96.00       5886\n",
      "126.03      3791\n",
      "76.00       3731\n",
      "114.00      2562\n",
      "71.00       2514\n",
      "323.00      2391\n",
      "41.00       2189\n",
      "335.00      1565\n",
      "334.00      1348\n",
      "87.00       1223\n",
      "81.00        824\n",
      "82.00        779\n",
      "78.00        775\n",
      "73.00        694\n",
      "42.00        588\n",
      "337.00       574\n",
      "302.00       520\n",
      "85.00        512\n",
      "84.00        411\n",
      "91.00        389\n",
      "72.00        359\n",
      "86.00        351\n",
      "92.00        346\n",
      "88.00        336\n",
      "332.00       304\n",
      "90.00        275\n",
      "68.00        270\n",
      "44.00        225\n",
      "163.00       188\n",
      "327.00       178\n",
      "180.00       163\n",
      "325.00       161\n",
      "331.00       159\n",
      "185.00       150\n",
      "295.00       143\n",
      "49.00        135\n",
      "64.00         97\n",
      "288.00        96\n",
      "45.00         94\n",
      "307.00        92\n",
      "322.00        89\n",
      "199.00        86\n",
      "65.00         84\n",
      "186.00        82\n",
      "190.00        80\n",
      "169.00        78\n",
      "326.00        74\n",
      "52.00         73\n",
      "194.00        72\n",
      "47.00         72\n",
      "308.00        71\n",
      "50.00         67\n",
      "311.00        67\n",
      "182.00        58\n",
      "51.00         58\n",
      "201.00        56\n",
      "309.00        53\n",
      "196.00        49\n",
      "178.00        48\n",
      "77.00         45\n",
      "102.00        45\n",
      "63.00         44\n",
      "205.00        40\n",
      "176.00        40\n",
      "162.00        38\n",
      "324.00        36\n",
      "305.00        35\n",
      "153.00        35\n",
      "321.00        35\n",
      "282.00        35\n",
      "315.00        35\n",
      "158.00        34\n",
      "48.00         34\n",
      "312.00        31\n",
      "383.00        31\n",
      "318.00        30\n",
      "336.00        30\n",
      "329.00        28\n",
      "62.00         27\n",
      "46.00         27\n",
      "280.00        26\n",
      "39.00         25\n",
      "364.00        24\n",
      "66.00         23\n",
      "429.00        22\n",
      "154.00        22\n",
      "347.00        20\n",
      "320.00        19\n",
      "316.00        19\n",
      "306.00        18\n",
      "313.00        17\n",
      "314.00        16\n",
      "152.00        16\n",
      "284.00        16\n",
      "156.00        15\n",
      "275.00        15\n",
      "287.00        14\n",
      "317.00        14\n",
      "319.00        14\n",
      "61.00         13\n",
      "218.00        13\n",
      "304.00        12\n",
      "388.00        11\n",
      "59.00         11\n",
      "166.00        11\n",
      "328.00        10\n",
      "398.00         8\n",
      "220.00         8\n",
      "174.00         7\n",
      "303.00         7\n",
      "60.00          7\n",
      "143.00         6\n",
      "57.00          6\n",
      "224.00         5\n",
      "146.00         4\n",
      "293.00         4\n",
      "151.00         4\n",
      "299.00         4\n",
      "171.00         4\n",
      "168.00         4\n",
      "187.00         4\n",
      "338.00         4\n",
      "173.00         4\n",
      "330.00         3\n",
      "406.00         3\n",
      "147.00         3\n",
      "142.00         3\n",
      "292.00         3\n",
      "296.00         3\n",
      "298.00         3\n",
      "56.00          3\n",
      "150.00         3\n",
      "294.00         3\n",
      "300.00         3\n",
      "58.00          3\n",
      "285.00         2\n",
      "195.00         2\n",
      "291.00         2\n",
      "278.00         2\n",
      "277.00         2\n",
      "286.00         2\n",
      "145.00         2\n",
      "212.00         2\n",
      "297.00         2\n",
      "202.00         2\n",
      "75.00          2\n",
      "10.00          1\n",
      "140.00         1\n",
      "9.00           1\n",
      "55.00          1\n",
      "139.00         1\n",
      "33.00          1\n",
      "136.00         1\n",
      "17.00          1\n",
      "161.00         1\n",
      "43.00          1\n",
      "115.00         1\n",
      "109.00         1\n",
      "423.00         1\n",
      "407.00         1\n",
      "402.00         1\n",
      "399.00         1\n",
      "369.00         1\n",
      "362.00         1\n",
      "348.00         1\n",
      "428.00         1\n",
      "290.00         1\n",
      "289.00         1\n",
      "281.00         1\n",
      "1.00           1\n",
      "368.00         1\n",
      "12.00          1\n",
      "222.00         1\n",
      "210.00         1\n",
      "79.00          1\n",
      "193.00         1\n",
      "32.00          1\n",
      "384.00         1\n",
      "175.00         1\n",
      "8.00           1\n",
      "Name: IeVerIdentifier, dtype: int64\n",
      "193\n"
     ]
    }
   ],
   "source": [
    "print(train.IeVerIdentifier.value_counts())\n",
    "print(train.IeVerIdentifier.nunique())"
   ]
  },
  {
   "cell_type": "markdown",
   "metadata": {},
   "source": [
    "We can delete only Platform feature."
   ]
  },
  {
   "cell_type": "code",
   "execution_count": 48,
   "metadata": {},
   "outputs": [],
   "source": [
    "corr_to_remove.append('Platform')"
   ]
  },
  {
   "cell_type": "code",
   "execution_count": 49,
   "metadata": {},
   "outputs": [
    {
     "data": {
      "image/png": "[encoded data removed]",
      "text/plain": [
       "<Figure size 864x576 with 2 Axes>"
      ]
     },
     "metadata": {
      "needs_background": "light"
     },
     "output_type": "display_data"
    }
   ],
   "source": [
    "corr_cols = cols[30:40]\n",
    "corr_cols.append('HasDetections')\n",
    "plt.figure(figsize=(12,8))\n",
    "sns.heatmap(train[corr_cols].corr(), annot=True,center=0,linewidths=.5,cmap=\"coolwarm\",robust=True)\n",
    "plt.title('Correlation between 31 - 40th columns')\n",
    "plt.show()"
   ]
  },
  {
   "cell_type": "markdown",
   "metadata": {},
   "source": [
    "Nothing useful from this heatmap also."
   ]
  },
  {
   "cell_type": "code",
   "execution_count": 50,
   "metadata": {},
   "outputs": [
    {
     "data": {
      "image/png": "[encoded data removed]",
      "text/plain": [
       "<Figure size 864x576 with 2 Axes>"
      ]
     },
     "metadata": {
      "needs_background": "light"
     },
     "output_type": "display_data"
    }
   ],
   "source": [
    "corr_cols = cols[40:46]\n",
    "corr_cols.append('HasDetections')\n",
    "plt.figure(figsize=(12,8))\n",
    "sns.heatmap(train[corr_cols].corr(), annot=True,center=0,linewidths=.5,cmap=\"coolwarm\",robust=True)\n",
    "plt.title('Correlation between 41 - 47th columns')\n",
    "plt.show()"
   ]
  },
  {
   "cell_type": "markdown",
   "metadata": {},
   "source": [
    "Let's inspect Census_IsTouchEnabled"
   ]
  },
  {
   "cell_type": "code",
   "execution_count": 51,
   "metadata": {},
   "outputs": [
    {
     "name": "stdout",
     "output_type": "stream",
     "text": [
      "0.00    491516\n",
      "1.00     76214\n",
      "Name: Census_IsTouchEnabled, dtype: int64\n",
      "2\n"
     ]
    }
   ],
   "source": [
    "print(train.Census_IsTouchEnabled.value_counts())\n",
    "print(train.Census_IsTouchEnabled.nunique())"
   ]
  },
  {
   "cell_type": "markdown",
   "metadata": {},
   "source": [
    "This seems like a binary feature. It will be useful in model training."
   ]
  },
  {
   "cell_type": "code",
   "execution_count": 52,
   "metadata": {},
   "outputs": [],
   "source": [
    "train.drop(corr_to_remove, axis=1, inplace=True)\n",
    "test.drop(corr_to_remove, axis=1, inplace=True)"
   ]
  },
  {
   "cell_type": "code",
   "execution_count": 53,
   "metadata": {},
   "outputs": [
    {
     "name": "stdout",
     "output_type": "stream",
     "text": [
      "(567730, 46)\n",
      "(243313, 45)\n"
     ]
    }
   ],
   "source": [
    "print(train.shape)\n",
    "print(test.shape)"
   ]
  },
  {
   "cell_type": "code",
   "execution_count": 54,
   "metadata": {},
   "outputs": [],
   "source": [
    "train = train.drop(['HasDetections'],axis=1)"
   ]
  },
  {
   "cell_type": "markdown",
   "metadata": {},
   "source": [
    "## Models"
   ]
  },
  {
   "cell_type": "markdown",
   "metadata": {},
   "source": [
    "#### Handling Imbalanced Data"
   ]
  },
  {
   "cell_type": "code",
   "execution_count": 55,
   "metadata": {},
   "outputs": [],
   "source": [
    "# from imblearn.over_sampling import SMOTE\n",
    "X = train\n",
    "Y = train_Label\n",
    "# sm = SMOTE(random_state=2020,n_jobs=-1)     #default - samples not the major class\n",
    "# X, Y = sm.fit_sample(X, Y.values.ravel(),)"
   ]
  },
  {
   "cell_type": "code",
   "execution_count": 56,
   "metadata": {},
   "outputs": [],
   "source": [
    "# print ('Shape of oversampled data: {}'.format(X.shape))\n",
    "# print ('Shape of Y: {}'.format(Y.shape))\n",
    "# sns.countplot(Y)\n",
    "# plt.title('Balanced training data')\n",
    "# plt.show()"
   ]
  },
  {
   "cell_type": "markdown",
   "metadata": {},
   "source": [
    "### lightGBM model"
   ]
  },
  {
   "cell_type": "code",
   "execution_count": 57,
   "metadata": {},
   "outputs": [],
   "source": [
    "# params = {'num_leaves': 60,\n",
    "#           'n_estimators': 2000,\n",
    "#          'min_data_in_leaf': 100, \n",
    "#          'objective':'binary',\n",
    "#           'is_unbalance': True,\n",
    "#          'max_depth': -1,\n",
    "#          'learning_rate': 0.1,\n",
    "#          'n_jobs': -1,\n",
    "#          \"boosting\": \"gbdt\",\n",
    "#          \"feature_fraction\": 0.8,\n",
    "#          \"bagging_freq\": 1,\n",
    "#          \"bagging_fraction\": 0.8 ,\n",
    "#          \"bagging_seed\": 1,\n",
    "#          \"metric\": 'auc',\n",
    "#          \"lambda_l1\": 0.3,\n",
    "#          \"verbosity\": -1}"
   ]
  },
  {
   "cell_type": "code",
   "execution_count": 58,
   "metadata": {},
   "outputs": [],
   "source": [
    "# import lightgbm as lgb\n",
    "# from sklearn.model_selection import train_test_split\n",
    "# x_train, x_test, y_train, y_test = train_test_split(X,Y, test_size = 0.25, random_state = 2020,stratify = Y)"
   ]
  },
  {
   "cell_type": "code",
   "execution_count": 59,
   "metadata": {},
   "outputs": [],
   "source": [
    "# lg_model = lgb.LGBMClassifier(**params)\n",
    "# lg_model.fit(x_train, y_train)\n",
    "# y_pred = lg_model.predict_proba(test)\n",
    "# submission = pd.DataFrame(columns=['MachineIdentifier', 'HasDetections'])\n",
    "# submission['MachineIdentifier'] = machine_id\n",
    "# submission['HasDetections'] = y_pred[:, 1] \n",
    "# submission.to_csv('submission_12_lightGBM.csv')"
   ]
  },
  {
   "cell_type": "markdown",
   "metadata": {},
   "source": [
    "#### XGBoost ( Without Smote)"
   ]
  },
  {
   "cell_type": "code",
   "execution_count": 60,
   "metadata": {},
   "outputs": [],
   "source": [
    "from sklearn.model_selection import train_test_split\n",
    "x_train, x_test, y_train, y_test = train_test_split(X,Y, test_size = 0.3, random_state = 2020, stratify = Y)"
   ]
  },
  {
   "cell_type": "code",
   "execution_count": 76,
   "metadata": {},
   "outputs": [
    {
     "data": {
      "text/plain": [
       "XGBClassifier(colsample_bytree=0.4, gamma=0.3, learning_rate=0.03, max_depth=15,\n",
       "              n_estimators=3000, n_jobs=-1, random_state=2020)"
      ]
     },
     "execution_count": 76,
     "metadata": {},
     "output_type": "execute_result"
    }
   ],
   "source": [
    "from xgboost import XGBClassifier\n",
    "classifier = XGBClassifier(n_estimators = 3000,random_state = 2020, n_jobs=-1,max_depth = 11, scale_pos_weight = 1, learning_rate = 0.03,\n",
    "                          gamma = 0.2, subsample = 1, colsample_bytree = 0.5, min_child_weight = 1, objective= 'binary:logistic')\n",
    "classifier.fit(x_train, y_train)"
   ]
  },
  {
   "cell_type": "code",
   "execution_count": 77,
   "metadata": {},
   "outputs": [],
   "source": [
    "y_pred = classifier.predict_proba(test)"
   ]
  },
  {
   "cell_type": "code",
   "execution_count": 78,
   "metadata": {},
   "outputs": [],
   "source": [
    "submission = pd.DataFrame(columns=['MachineIdentifier', 'HasDetections'])\n",
    "submission['MachineIdentifier'] = machine_id\n",
    "submission['HasDetections'] = y_pred[:, 1] \n",
    "submission.to_csv('submission_15_XGB.csv')"
   ]
  },
  {
   "cell_type": "markdown",
   "metadata": {},
   "source": [
    "#### Grid search for XGBoost"
   ]
  },
  {
   "cell_type": "code",
   "execution_count": 115,
   "metadata": {},
   "outputs": [],
   "source": [
    "# param_xgb = {\n",
    "#     'n_estimarots': [3000, 4000],\n",
    "#     'max_depth': [8,12],\n",
    "#     'gamma': [2,6,],\n",
    "#     'min_child_weight': [3,10],\n",
    "#     'subsample': [0.5, 0.7],\n",
    "#     'lambda': [0.6,1.5], \n",
    "#     'scale_pos_weight': [8, 10]       \n",
    "#     }"
   ]
  },
  {
   "cell_type": "code",
   "execution_count": null,
   "metadata": {},
   "outputs": [],
   "source": [
    "# from sklearn.model_selection import GridSearchCV\n",
    "# grid_search = GridSearchCV(estimator = classifier,\n",
    "#                            param_grid = param_xgb,\n",
    "#                            scoring = 'accuracy',\n",
    "#                            cv = 10,\n",
    "#                            n_jobs = -1)\n",
    "# grid_search.fit(x_train, y_train)\n",
    "# best_accuracy = grid_search.best_score_\n",
    "# best_parameters = grid_search.best_params_\n",
    "# print(\"Best Accuracy: {:.2f} %\".format(best_accuracy*100))\n",
    "# print(\"Best Parameters:\", best_parameters)"
   ]
  },
  {
   "cell_type": "markdown",
   "metadata": {},
   "source": [
    "#### Random Forest (With Smote)"
   ]
  },
  {
   "cell_type": "code",
   "execution_count": 59,
   "metadata": {},
   "outputs": [],
   "source": [
    "# X = train\n",
    "# Y = train_Label"
   ]
  },
  {
   "cell_type": "code",
   "execution_count": 62,
   "metadata": {},
   "outputs": [],
   "source": [
    "# from sklearn.model_selection import train_test_split\n",
    "# x_train, x_test, y_train, y_test = train_test_split(X,Y, test_size = 0.2, random_state = 2020, stratify = Y)\n",
    "# from sklearn.ensemble import RandomForestClassifier\n",
    "# classifier = RandomForestClassifier(n_estimators = 2000, random_state = 2020, n_jobs=-1,\n",
    "#                                     max_depth=10, min_samples_split=10, min_samples_leaf=30, class_weight=\"balanced\")\n",
    "# classifier.fit(x_train, y_train)"
   ]
  },
  {
   "cell_type": "code",
   "execution_count": null,
   "metadata": {},
   "outputs": [],
   "source": [
    "# y_pred = classifier.predict_proba(test)\n",
    "# submission = pd.DataFrame(columns=['MachineIdentifier', 'HasDetections'])\n",
    "# submission['MachineIdentifier'] = machine_id\n",
    "# submission['HasDetections'] = y_pred[:, 1] \n",
    "# submission.to_csv('submission_1_rf.csv')"
   ]
  },
  {
   "cell_type": "markdown",
   "metadata": {},
   "source": [
    "#### Logistic Regression (without smote)"
   ]
  },
  {
   "cell_type": "code",
   "execution_count": 67,
   "metadata": {},
   "outputs": [],
   "source": [
    "# X = train\n",
    "# Y = train_Label\n",
    "# from sklearn.model_selection import train_test_split\n",
    "# x_train, x_test, y_train, y_test = train_test_split(X,Y, test_size = 0.2, random_state = 2020, stratify = Y)\n",
    "# from sklearn.linear_model import LogisticRegression\n",
    "# classifier = LogisticRegression(random_state = 2020,class_weight=\"balanced\", n_jobs=-1)\n",
    "# classifier.fit(x_train, y_train)"
   ]
  },
  {
   "cell_type": "code",
   "execution_count": 70,
   "metadata": {},
   "outputs": [],
   "source": [
    "# y_pred = classifier.predict_proba(test)\n",
    "# submission = pd.DataFrame(columns=['MachineIdentifier', 'HasDetections'])\n",
    "# submission['MachineIdentifier'] = machine_id\n",
    "# submission['HasDetections'] = y_pred[:, 1] \n",
    "# submission.to_csv('submission_1_lr_without_smote.csv')"
   ]
  },
  {
   "cell_type": "markdown",
   "metadata": {},
   "source": [
    "#### Logistic Regression (with smote)"
   ]
  },
  {
   "cell_type": "code",
   "execution_count": 73,
   "metadata": {},
   "outputs": [],
   "source": [
    "# from imblearn.over_sampling import SMOTE\n",
    "# X = train\n",
    "# Y = train_Label\n",
    "# sm = SMOTE(random_state=2020,n_jobs=-1)     #default - samples not the major class\n",
    "# X, Y = sm.fit_sample(X, Y.values.ravel(),)"
   ]
  },
  {
   "cell_type": "code",
   "execution_count": 79,
   "metadata": {},
   "outputs": [],
   "source": [
    "# print ('Shape of oversampled data: {}'.format(X.shape))\n",
    "# print ('Shape of Y: {}'.format(Y.shape))\n",
    "# sns.countplot(Y)\n",
    "# plt.title('Balanced training data')\n",
    "# plt.show()"
   ]
  },
  {
   "cell_type": "code",
   "execution_count": 76,
   "metadata": {},
   "outputs": [],
   "source": [
    "# from sklearn.model_selection import train_test_split\n",
    "# x_train, x_test, y_train, y_test = train_test_split(X,Y, test_size = 0.2, random_state = 2020)"
   ]
  },
  {
   "cell_type": "code",
   "execution_count": 1,
   "metadata": {},
   "outputs": [],
   "source": [
    "# from sklearn.linear_model import LogisticRegression\n",
    "# classifier = LogisticRegression(random_state = 2020, n_jobs=-1)\n",
    "# classifier.fit(x_train, y_train)"
   ]
  },
  {
   "cell_type": "code",
   "execution_count": 78,
   "metadata": {},
   "outputs": [],
   "source": [
    "# y_pred = classifier.predict_proba(test)\n",
    "# submission = pd.DataFrame(columns=['MachineIdentifier', 'HasDetections'])\n",
    "# submission['MachineIdentifier'] = machine_id\n",
    "# submission['HasDetections'] = y_pred[:, 1] \n",
    "# submission.to_csv('submission_2_lr_with_smote.csv')"
   ]
  }
 ],
 "metadata": {
  "kernelspec": {
   "display_name": "Python 3",
   "language": "python",
   "name": "python3"
  },
  "language_info": {
   "codemirror_mode": {
    "name": "ipython",
    "version": 3
   },
   "file_extension": ".py",
   "mimetype": "text/x-python",
   "name": "python",
   "nbconvert_exporter": "python",
   "pygments_lexer": "ipython3",
   "version": "3.8.5"
  }
 },
 "nbformat": 4,
 "nbformat_minor": 4
}
